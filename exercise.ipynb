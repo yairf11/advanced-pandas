{
 "cells": [
  {
   "cell_type": "code",
   "execution_count": 1,
   "metadata": {
    "collapsed": true
   },
   "outputs": [
    {
     "data": {
      "text/plain": "  Company              Title                Job     Level          Date  \\\n0   Apple  Software Engineer  Software Engineer  Engineer   Aug 7, 2019   \n1   Apple  Software Engineer  Software Engineer  Engineer   Aug 8, 2019   \n2   Apple  Software Engineer  Software Engineer  Engineer           NaN   \n3   Apple  Software Engineer  Software Engineer  Engineer           NaN   \n4   Apple  Software Engineer  Software Engineer  Engineer  May 29, 2009   \n\n   Upvotes           Offer  Experience Difficulty  \\\n0        0        No offer         0.0     Medium   \n1        0  Accepted offer         1.0       Hard   \n2        0  Declined offer         0.0     Medium   \n3        9  Declined offer        -1.0     Medium   \n4        2        No offer         0.0     Medium   \n\n                                              Review  \n0  Application  I applied through a staffing agen...  \n1  Application  I applied online. The process too...  \n2  Application  The process took 4 weeks. I inter...  \n3  Application  The process took a week. I interv...  \n4  Application  I applied through an employee ref...  ",
      "text/html": "<div>\n<style scoped>\n    .dataframe tbody tr th:only-of-type {\n        vertical-align: middle;\n    }\n\n    .dataframe tbody tr th {\n        vertical-align: top;\n    }\n\n    .dataframe thead th {\n        text-align: right;\n    }\n</style>\n<table border=\"1\" class=\"dataframe\">\n  <thead>\n    <tr style=\"text-align: right;\">\n      <th></th>\n      <th>Company</th>\n      <th>Title</th>\n      <th>Job</th>\n      <th>Level</th>\n      <th>Date</th>\n      <th>Upvotes</th>\n      <th>Offer</th>\n      <th>Experience</th>\n      <th>Difficulty</th>\n      <th>Review</th>\n    </tr>\n  </thead>\n  <tbody>\n    <tr>\n      <th>0</th>\n      <td>Apple</td>\n      <td>Software Engineer</td>\n      <td>Software Engineer</td>\n      <td>Engineer</td>\n      <td>Aug 7, 2019</td>\n      <td>0</td>\n      <td>No offer</td>\n      <td>0.0</td>\n      <td>Medium</td>\n      <td>Application  I applied through a staffing agen...</td>\n    </tr>\n    <tr>\n      <th>1</th>\n      <td>Apple</td>\n      <td>Software Engineer</td>\n      <td>Software Engineer</td>\n      <td>Engineer</td>\n      <td>Aug 8, 2019</td>\n      <td>0</td>\n      <td>Accepted offer</td>\n      <td>1.0</td>\n      <td>Hard</td>\n      <td>Application  I applied online. The process too...</td>\n    </tr>\n    <tr>\n      <th>2</th>\n      <td>Apple</td>\n      <td>Software Engineer</td>\n      <td>Software Engineer</td>\n      <td>Engineer</td>\n      <td>NaN</td>\n      <td>0</td>\n      <td>Declined offer</td>\n      <td>0.0</td>\n      <td>Medium</td>\n      <td>Application  The process took 4 weeks. I inter...</td>\n    </tr>\n    <tr>\n      <th>3</th>\n      <td>Apple</td>\n      <td>Software Engineer</td>\n      <td>Software Engineer</td>\n      <td>Engineer</td>\n      <td>NaN</td>\n      <td>9</td>\n      <td>Declined offer</td>\n      <td>-1.0</td>\n      <td>Medium</td>\n      <td>Application  The process took a week. I interv...</td>\n    </tr>\n    <tr>\n      <th>4</th>\n      <td>Apple</td>\n      <td>Software Engineer</td>\n      <td>Software Engineer</td>\n      <td>Engineer</td>\n      <td>May 29, 2009</td>\n      <td>2</td>\n      <td>No offer</td>\n      <td>0.0</td>\n      <td>Medium</td>\n      <td>Application  I applied through an employee ref...</td>\n    </tr>\n  </tbody>\n</table>\n</div>"
     },
     "execution_count": 1,
     "metadata": {},
     "output_type": "execute_result"
    }
   ],
   "source": [
    "import pandas as pd\n",
    "df = pd.read_csv(\"data/interviews.csv\")\n",
    "\n",
    "df.head()"
   ]
  },
  {
   "cell_type": "markdown",
   "source": [
    "## 1. pandas is column-major\n",
    "\n",
    "### 1.1. For each row, calculate the multiplication of `Experience` and `Upvotes` in the following ways:\n",
    "\n",
    "1. Using `iterrows`\n",
    "2. Using `itertuples`\n",
    "3. Using `to_numpy`\n",
    "4. Using row-wise `apply` (`apply(axis=1)`)\n",
    "5. Using vectorized operations\n",
    "\n",
    "How long does each method take?"
   ],
   "metadata": {
    "collapsed": false
   }
  },
  {
   "cell_type": "code",
   "execution_count": 2,
   "outputs": [],
   "source": [
    "# TODO your code here"
   ],
   "metadata": {
    "collapsed": false
   }
  },
  {
   "cell_type": "markdown",
   "source": [
    "### 1.2. We want to fetch all reviews that had at least two upvotes. What is the fastest why to do so?"
   ],
   "metadata": {
    "collapsed": false
   }
  },
  {
   "cell_type": "code",
   "execution_count": 3,
   "outputs": [],
   "source": [
    "# TODO your code here"
   ],
   "metadata": {
    "collapsed": false
   }
  },
  {
   "cell_type": "markdown",
   "source": [
    "## 2. SettingWithCopyWarning\n",
    "\n",
    "### 2.1 In one chained operation (one line), change all rows that have company name 'Apple' to 'Banana', **without raising SettingWithCopyWarning**"
   ],
   "metadata": {
    "collapsed": false
   }
  },
  {
   "cell_type": "code",
   "execution_count": 4,
   "outputs": [],
   "source": [
    "# TODO your code here"
   ],
   "metadata": {
    "collapsed": false
   }
  },
  {
   "cell_type": "markdown",
   "source": [
    "## 3. Accessors\n",
    "\n",
    "### 3.1 Use pandas' `str` accessor to calculate the number of characters in each review."
   ],
   "metadata": {
    "collapsed": false
   }
  },
  {
   "cell_type": "code",
   "execution_count": 5,
   "outputs": [],
   "source": [
    "# TODO your code here"
   ],
   "metadata": {
    "collapsed": false
   }
  },
  {
   "cell_type": "markdown",
   "source": [
    "### 3.2 Use pandas' `str` accessor to find out which reviews had an online part."
   ],
   "metadata": {
    "collapsed": false
   }
  },
  {
   "cell_type": "code",
   "execution_count": 6,
   "outputs": [],
   "source": [
    "# TODO your code here"
   ],
   "metadata": {
    "collapsed": false
   }
  },
  {
   "cell_type": "markdown",
   "source": [
    "### 3.3 Use pandas' `dt` accessor to find out the name of month in which each interview took place."
   ],
   "metadata": {
    "collapsed": false
   }
  },
  {
   "cell_type": "code",
   "execution_count": 7,
   "outputs": [],
   "source": [
    "# TODO your code here"
   ],
   "metadata": {
    "collapsed": false
   }
  },
  {
   "cell_type": "markdown",
   "source": [
    "## 4. GroupBy\n",
    "\n",
    "### 4.1 Using a single groupby-aggregate operation, find out the mean and std of 'Experience', and the median of 'Upvotes' per company."
   ],
   "metadata": {
    "collapsed": false
   }
  },
  {
   "cell_type": "code",
   "execution_count": 8,
   "outputs": [],
   "source": [
    "# TODO your code here"
   ],
   "metadata": {
    "collapsed": false
   }
  },
  {
   "cell_type": "markdown",
   "source": [
    "### 4.2 Use a GroupBy on multiple columns to calculate the mean of the 'Upvotes' for each company in each experience level"
   ],
   "metadata": {
    "collapsed": false
   }
  },
  {
   "cell_type": "code",
   "execution_count": 9,
   "outputs": [],
   "source": [
    "# TODO your code here"
   ],
   "metadata": {
    "collapsed": false
   }
  },
  {
   "cell_type": "markdown",
   "source": [
    "## 5. Windowing Operations\n",
    "\n",
    "### 5.1 Use `groupby` and `rolling`  to find out the sum of upvotes given in each week for each company"
   ],
   "metadata": {
    "collapsed": false
   }
  },
  {
   "cell_type": "code",
   "execution_count": 10,
   "outputs": [],
   "source": [
    "# TODO your code here"
   ],
   "metadata": {
    "collapsed": false
   }
  },
  {
   "cell_type": "markdown",
   "source": [
    "## 6. Combining data from multiple tables\n",
    "\n",
    "### 6.1 Use `merge` and then `groupby` to find out for each interview how many more interviews were conducted in the same month, to the same company, and for the saem title. Put it in a new column called 'NumSimilars'."
   ],
   "metadata": {
    "collapsed": false
   }
  },
  {
   "cell_type": "code",
   "execution_count": 11,
   "outputs": [],
   "source": [
    "# TODO your code here"
   ],
   "metadata": {
    "collapsed": false
   }
  },
  {
   "cell_type": "markdown",
   "source": [
    "## 7. Plotting with Pandas\n",
    "\n",
    "### 7.1. Plot the output of exercise 4.2 (the mean of the 'Upvotes' for each company in each experience level) using the built-in matplotlib plotting."
   ],
   "metadata": {
    "collapsed": false
   }
  },
  {
   "cell_type": "code",
   "execution_count": 12,
   "outputs": [],
   "source": [
    "# TODO your code here"
   ],
   "metadata": {
    "collapsed": false
   }
  },
  {
   "cell_type": "markdown",
   "source": [
    "### 7.2 Now plot it using `pandas_bokeh`"
   ],
   "metadata": {
    "collapsed": false
   }
  },
  {
   "cell_type": "code",
   "execution_count": 13,
   "outputs": [],
   "source": [
    "# TODO your code here"
   ],
   "metadata": {
    "collapsed": false
   }
  },
  {
   "cell_type": "markdown",
   "source": [
    "## 8. GeoPandas"
   ],
   "metadata": {
    "collapsed": false
   }
  },
  {
   "cell_type": "code",
   "execution_count": 14,
   "outputs": [],
   "source": [
    "import geopandas as gpd\n",
    "countries = gpd.read_file(gpd.datasets.get_path(\"naturalearth_lowres\"))\n",
    "cities = gpd.read_file(gpd.datasets.get_path(\"naturalearth_cities\"))"
   ],
   "metadata": {
    "collapsed": false
   }
  },
  {
   "cell_type": "code",
   "execution_count": 15,
   "outputs": [
    {
     "data": {
      "text/plain": "     pop_est      continent                      name iso_a3  gdp_md_est  \\\n0     920938        Oceania                      Fiji    FJI      8374.0   \n1   53950935         Africa                  Tanzania    TZA    150600.0   \n2     603253         Africa                 W. Sahara    ESH       906.5   \n3   35623680  North America                    Canada    CAN   1674000.0   \n4  326625791  North America  United States of America    USA  18560000.0   \n\n                                            geometry  \n0  MULTIPOLYGON (((180.00000 -16.06713, 180.00000...  \n1  POLYGON ((33.90371 -0.95000, 34.07262 -1.05982...  \n2  POLYGON ((-8.66559 27.65643, -8.66512 27.58948...  \n3  MULTIPOLYGON (((-122.84000 49.00000, -122.9742...  \n4  MULTIPOLYGON (((-122.84000 49.00000, -120.0000...  ",
      "text/html": "<div>\n<style scoped>\n    .dataframe tbody tr th:only-of-type {\n        vertical-align: middle;\n    }\n\n    .dataframe tbody tr th {\n        vertical-align: top;\n    }\n\n    .dataframe thead th {\n        text-align: right;\n    }\n</style>\n<table border=\"1\" class=\"dataframe\">\n  <thead>\n    <tr style=\"text-align: right;\">\n      <th></th>\n      <th>pop_est</th>\n      <th>continent</th>\n      <th>name</th>\n      <th>iso_a3</th>\n      <th>gdp_md_est</th>\n      <th>geometry</th>\n    </tr>\n  </thead>\n  <tbody>\n    <tr>\n      <th>0</th>\n      <td>920938</td>\n      <td>Oceania</td>\n      <td>Fiji</td>\n      <td>FJI</td>\n      <td>8374.0</td>\n      <td>MULTIPOLYGON (((180.00000 -16.06713, 180.00000...</td>\n    </tr>\n    <tr>\n      <th>1</th>\n      <td>53950935</td>\n      <td>Africa</td>\n      <td>Tanzania</td>\n      <td>TZA</td>\n      <td>150600.0</td>\n      <td>POLYGON ((33.90371 -0.95000, 34.07262 -1.05982...</td>\n    </tr>\n    <tr>\n      <th>2</th>\n      <td>603253</td>\n      <td>Africa</td>\n      <td>W. Sahara</td>\n      <td>ESH</td>\n      <td>906.5</td>\n      <td>POLYGON ((-8.66559 27.65643, -8.66512 27.58948...</td>\n    </tr>\n    <tr>\n      <th>3</th>\n      <td>35623680</td>\n      <td>North America</td>\n      <td>Canada</td>\n      <td>CAN</td>\n      <td>1674000.0</td>\n      <td>MULTIPOLYGON (((-122.84000 49.00000, -122.9742...</td>\n    </tr>\n    <tr>\n      <th>4</th>\n      <td>326625791</td>\n      <td>North America</td>\n      <td>United States of America</td>\n      <td>USA</td>\n      <td>18560000.0</td>\n      <td>MULTIPOLYGON (((-122.84000 49.00000, -120.0000...</td>\n    </tr>\n  </tbody>\n</table>\n</div>"
     },
     "execution_count": 15,
     "metadata": {},
     "output_type": "execute_result"
    }
   ],
   "source": [
    "countries.head()"
   ],
   "metadata": {
    "collapsed": false
   }
  },
  {
   "cell_type": "code",
   "execution_count": 16,
   "outputs": [
    {
     "data": {
      "text/plain": "           name                   geometry\n0  Vatican City  POINT (12.45339 41.90328)\n1    San Marino  POINT (12.44177 43.93610)\n2         Vaduz   POINT (9.51667 47.13372)\n3    Luxembourg   POINT (6.13000 49.61166)\n4       Palikir  POINT (158.14997 6.91664)",
      "text/html": "<div>\n<style scoped>\n    .dataframe tbody tr th:only-of-type {\n        vertical-align: middle;\n    }\n\n    .dataframe tbody tr th {\n        vertical-align: top;\n    }\n\n    .dataframe thead th {\n        text-align: right;\n    }\n</style>\n<table border=\"1\" class=\"dataframe\">\n  <thead>\n    <tr style=\"text-align: right;\">\n      <th></th>\n      <th>name</th>\n      <th>geometry</th>\n    </tr>\n  </thead>\n  <tbody>\n    <tr>\n      <th>0</th>\n      <td>Vatican City</td>\n      <td>POINT (12.45339 41.90328)</td>\n    </tr>\n    <tr>\n      <th>1</th>\n      <td>San Marino</td>\n      <td>POINT (12.44177 43.93610)</td>\n    </tr>\n    <tr>\n      <th>2</th>\n      <td>Vaduz</td>\n      <td>POINT (9.51667 47.13372)</td>\n    </tr>\n    <tr>\n      <th>3</th>\n      <td>Luxembourg</td>\n      <td>POINT (6.13000 49.61166)</td>\n    </tr>\n    <tr>\n      <th>4</th>\n      <td>Palikir</td>\n      <td>POINT (158.14997 6.91664)</td>\n    </tr>\n  </tbody>\n</table>\n</div>"
     },
     "execution_count": 16,
     "metadata": {},
     "output_type": "execute_result"
    }
   ],
   "source": [
    "cities.head()"
   ],
   "metadata": {
    "collapsed": false
   }
  },
  {
   "cell_type": "markdown",
   "source": [
    "### 8.1. For each city, find the city closest to it (which is not itself of course), and calculate the distance between them in meters."
   ],
   "metadata": {
    "collapsed": false
   }
  },
  {
   "cell_type": "code",
   "execution_count": 17,
   "outputs": [],
   "source": [
    "# TODO your code here"
   ],
   "metadata": {
    "collapsed": false
   }
  },
  {
   "cell_type": "markdown",
   "source": [
    "### That's it! Truly, you are now a Pandas master!"
   ],
   "metadata": {
    "collapsed": false
   }
  }
 ],
 "metadata": {
  "kernelspec": {
   "display_name": "Python 3",
   "language": "python",
   "name": "python3"
  },
  "language_info": {
   "codemirror_mode": {
    "name": "ipython",
    "version": 2
   },
   "file_extension": ".py",
   "mimetype": "text/x-python",
   "name": "python",
   "nbconvert_exporter": "python",
   "pygments_lexer": "ipython2",
   "version": "2.7.6"
  }
 },
 "nbformat": 4,
 "nbformat_minor": 0
}
