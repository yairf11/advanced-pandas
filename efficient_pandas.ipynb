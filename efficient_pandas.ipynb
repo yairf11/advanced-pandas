{
 "cells": [
  {
   "cell_type": "markdown",
   "metadata": {
    "collapsed": true,
    "pycharm": {
     "name": "#%% md\n"
    }
   },
   "source": [
    "# Efficient Pandas\n",
    "### A guide for using pandas efficiently\n",
    "\n",
    "In this guide, we will cover some important pandas topics that will make your life easier, and your code run faster.\n",
    "\n",
    "This guide assumes you already know how to use pandas on a basic level, and are willing to take it to the next step.\n",
    "\n",
    "Much of this guide is taken / inspired by [Chip Huyen's just-pandas-things guide](https://github.com/chiphuyen/just-pandas-things), the rest is from other blog posts / my own experience."
   ]
  },
  {
   "cell_type": "code",
   "execution_count": 1,
   "metadata": {
    "pycharm": {
     "name": "#%%\n"
    }
   },
   "outputs": [],
   "source": [
    "import numpy as np\n",
    "import pandas as pd"
   ]
  },
  {
   "cell_type": "code",
   "execution_count": 2,
   "outputs": [
    {
     "name": "stdout",
     "output_type": "stream",
     "text": [
      "(17654, 10)\n"
     ]
    },
    {
     "data": {
      "text/plain": "  Company              Title                Job     Level          Date  \\\n0   Apple  Software Engineer  Software Engineer  Engineer   Aug 7, 2019   \n1   Apple  Software Engineer  Software Engineer  Engineer   Aug 8, 2019   \n2   Apple  Software Engineer  Software Engineer  Engineer           NaN   \n3   Apple  Software Engineer  Software Engineer  Engineer           NaN   \n4   Apple  Software Engineer  Software Engineer  Engineer  May 29, 2009   \n\n   Upvotes           Offer  Experience Difficulty  \\\n0        0        No offer         0.0     Medium   \n1        0  Accepted offer         1.0       Hard   \n2        0  Declined offer         0.0     Medium   \n3        9  Declined offer        -1.0     Medium   \n4        2        No offer         0.0     Medium   \n\n                                              Review  \n0  Application  I applied through a staffing agen...  \n1  Application  I applied online. The process too...  \n2  Application  The process took 4 weeks. I inter...  \n3  Application  The process took a week. I interv...  \n4  Application  I applied through an employee ref...  ",
      "text/html": "<div>\n<style scoped>\n    .dataframe tbody tr th:only-of-type {\n        vertical-align: middle;\n    }\n\n    .dataframe tbody tr th {\n        vertical-align: top;\n    }\n\n    .dataframe thead th {\n        text-align: right;\n    }\n</style>\n<table border=\"1\" class=\"dataframe\">\n  <thead>\n    <tr style=\"text-align: right;\">\n      <th></th>\n      <th>Company</th>\n      <th>Title</th>\n      <th>Job</th>\n      <th>Level</th>\n      <th>Date</th>\n      <th>Upvotes</th>\n      <th>Offer</th>\n      <th>Experience</th>\n      <th>Difficulty</th>\n      <th>Review</th>\n    </tr>\n  </thead>\n  <tbody>\n    <tr>\n      <th>0</th>\n      <td>Apple</td>\n      <td>Software Engineer</td>\n      <td>Software Engineer</td>\n      <td>Engineer</td>\n      <td>Aug 7, 2019</td>\n      <td>0</td>\n      <td>No offer</td>\n      <td>0.0</td>\n      <td>Medium</td>\n      <td>Application  I applied through a staffing agen...</td>\n    </tr>\n    <tr>\n      <th>1</th>\n      <td>Apple</td>\n      <td>Software Engineer</td>\n      <td>Software Engineer</td>\n      <td>Engineer</td>\n      <td>Aug 8, 2019</td>\n      <td>0</td>\n      <td>Accepted offer</td>\n      <td>1.0</td>\n      <td>Hard</td>\n      <td>Application  I applied online. The process too...</td>\n    </tr>\n    <tr>\n      <th>2</th>\n      <td>Apple</td>\n      <td>Software Engineer</td>\n      <td>Software Engineer</td>\n      <td>Engineer</td>\n      <td>NaN</td>\n      <td>0</td>\n      <td>Declined offer</td>\n      <td>0.0</td>\n      <td>Medium</td>\n      <td>Application  The process took 4 weeks. I inter...</td>\n    </tr>\n    <tr>\n      <th>3</th>\n      <td>Apple</td>\n      <td>Software Engineer</td>\n      <td>Software Engineer</td>\n      <td>Engineer</td>\n      <td>NaN</td>\n      <td>9</td>\n      <td>Declined offer</td>\n      <td>-1.0</td>\n      <td>Medium</td>\n      <td>Application  The process took a week. I interv...</td>\n    </tr>\n    <tr>\n      <th>4</th>\n      <td>Apple</td>\n      <td>Software Engineer</td>\n      <td>Software Engineer</td>\n      <td>Engineer</td>\n      <td>May 29, 2009</td>\n      <td>2</td>\n      <td>No offer</td>\n      <td>0.0</td>\n      <td>Medium</td>\n      <td>Application  I applied through an employee ref...</td>\n    </tr>\n  </tbody>\n</table>\n</div>"
     },
     "execution_count": 2,
     "metadata": {},
     "output_type": "execute_result"
    }
   ],
   "source": [
    "df = pd.read_csv(\"data/interviews.csv\")\n",
    "\n",
    "print(df.shape)\n",
    "df.head()"
   ],
   "metadata": {
    "collapsed": false,
    "pycharm": {
     "name": "#%%\n"
    }
   }
  },
  {
   "cell_type": "markdown",
   "metadata": {
    "pycharm": {
     "name": "#%% md\n"
    }
   },
   "source": [
    "## 1. pandas is column-major\n",
    "\n",
    "Pandas is built around DataFrame, a concept inspired by R's Data Frame, which is, in turn, similar to tables in relational databases. A DataFrame is a two-dimensional table with rows and columns.\n",
    "\n",
    "One important thing to know about pandas is that it's column-major, which explains many of its quirks.\n",
    "\n",
    "Column-major means consecutive elements in a column are stored next to each other in memory. Row-major means the same but for elements in a row. Because modern computers process sequential data more efficiently than non-sequential data, if a table is row-major, accessing its rows will be much faster than accessing its columns.\n",
    "\n",
    "In NumPy, major order can be specified. When a ndarray is created, it's row-major by default if you don't specify the order.\n",
    "\n",
    "People coming to pandas from NumPy tend to treat DataFrame the way they would ndarray, e.g. trying to access data by rows, and find DataFrame slow.\n",
    "\n",
    "**Note**: A column in a DataFrame is a Series. You can think of a DataFrame as a bunch of Series being stored next to each other in memory.\n",
    "\n",
    "**For our dataset, accessing a row takes between 50x-100x longer than accessing a column in our DataFrame.**"
   ]
  },
  {
   "cell_type": "code",
   "execution_count": 3,
   "metadata": {
    "pycharm": {
     "name": "#%%\n"
    }
   },
   "outputs": [
    {
     "name": "stdout",
     "output_type": "stream",
     "text": [
      "1.73 µs ± 178 ns per loop (mean ± std. dev. of 7 runs, 1000 loops each)\n",
      "105 µs ± 6.67 µs per loop (mean ± std. dev. of 7 runs, 1000 loops each)\n"
     ]
    }
   ],
   "source": [
    "# Get the column `date`, 1000 loops\n",
    "%timeit -n1000 df[\"Date\"]\n",
    "\n",
    "# Get the first row, 1000 loops\n",
    "%timeit -n1000 df.iloc[0]"
   ]
  },
  {
   "cell_type": "markdown",
   "metadata": {},
   "source": [
    "### 1.1 Applying a function to all rows\n",
    "\n",
    "We have seen that accessing rows is bad for us. Sadly, sometimes we have to (but in most cases we really don't!).\n",
    "\n",
    "Let's take a look at our options.\n",
    "\n",
    "We will work with numerical columns in this section, and our goal will be to multiply the `Experience` value with the `Upvotes` value.\n"
   ]
  },
  {
   "cell_type": "code",
   "execution_count": 4,
   "outputs": [],
   "source": [
    "numeric_df = df[['Experience', 'Upvotes']]"
   ],
   "metadata": {
    "collapsed": false,
    "pycharm": {
     "name": "#%%\n"
    }
   }
  },
  {
   "cell_type": "markdown",
   "source": [
    "#### 1.1.1 `.iterrows()` and `.itertuples()`\n",
    "If you really want to iterate over rows, one naive way is to use `.iterrows()`. It returns a generator that generates row by row and it's very slow."
   ],
   "metadata": {
    "collapsed": false
   }
  },
  {
   "cell_type": "code",
   "execution_count": 5,
   "outputs": [
    {
     "name": "stdout",
     "output_type": "stream",
     "text": [
      "665 ms ± 13 ms per loop (mean ± std. dev. of 7 runs, 1 loop each)\n"
     ]
    }
   ],
   "source": [
    "%timeit -n1 [row['Experience'] * row['Upvotes'] for index, row in numeric_df.iterrows()]"
   ],
   "metadata": {
    "collapsed": false,
    "pycharm": {
     "name": "#%%\n"
    }
   }
  },
  {
   "cell_type": "markdown",
   "source": [
    "The reason `iterrows` is so slow is because it transforms every row into a `pd.Series` object, which is inefficient:"
   ],
   "metadata": {
    "collapsed": false,
    "pycharm": {
     "name": "#%% md\n"
    }
   }
  },
  {
   "cell_type": "code",
   "execution_count": 6,
   "outputs": [
    {
     "name": "stdout",
     "output_type": "stream",
     "text": [
      "<class 'pandas.core.series.Series'>\n",
      "Experience    0.0\n",
      "Upvotes       0.0\n",
      "Name: 0, dtype: float64\n"
     ]
    }
   ],
   "source": [
    "# This is what a row looks like as a pandas object\n",
    "for index, row in numeric_df.iterrows():\n",
    "    print(type(row))\n",
    "    print(row)\n",
    "    break"
   ],
   "metadata": {
    "collapsed": false,
    "pycharm": {
     "name": "#%%\n"
    }
   }
  },
  {
   "cell_type": "markdown",
   "source": [
    "`.itertuples()` returns rows in the `namedtuple` format. It still lets you access each row and it's about 40-60x faster than `.iterrows()`."
   ],
   "metadata": {
    "collapsed": false
   }
  },
  {
   "cell_type": "code",
   "execution_count": 7,
   "outputs": [
    {
     "name": "stdout",
     "output_type": "stream",
     "text": [
      "13.9 ms ± 1.3 ms per loop (mean ± std. dev. of 7 runs, 1 loop each)\n"
     ]
    }
   ],
   "source": [
    "%timeit -n1 [row.Experience * row.Upvotes for row in numeric_df.itertuples()]"
   ],
   "metadata": {
    "collapsed": false,
    "pycharm": {
     "name": "#%%\n"
    }
   }
  },
  {
   "cell_type": "code",
   "execution_count": 8,
   "outputs": [
    {
     "name": "stdout",
     "output_type": "stream",
     "text": [
      "<class 'pandas.core.frame.Pandas'>\n",
      "Pandas(Index=0, Experience=0.0, Upvotes=0)\n"
     ]
    }
   ],
   "source": [
    "# This is what a row looks like as a namedtuple.\n",
    "for row in numeric_df.itertuples():\n",
    "    print(type(row))\n",
    "    print(row)\n",
    "    break"
   ],
   "metadata": {
    "collapsed": false,
    "pycharm": {
     "name": "#%%\n"
    }
   }
  },
  {
   "cell_type": "markdown",
   "source": [
    "#### 1.1.2 `.apply(func, axis=1)`\n",
    "pandas documentation has [a warning box](https://pandas.pydata.org/pandas-docs/stable/user_guide/basics.html#iteration) that basically tells you not to iterate over rows because it's slow.\n",
    "\n",
    "Instead of iterating over the rows, we will use a custom function that we will apply to each row using the `apply` function."
   ],
   "metadata": {
    "collapsed": false
   }
  },
  {
   "cell_type": "code",
   "execution_count": 9,
   "outputs": [
    {
     "name": "stdout",
     "output_type": "stream",
     "text": [
      "191 ms ± 13.4 ms per loop (mean ± std. dev. of 7 runs, 1 loop each)\n"
     ]
    }
   ],
   "source": [
    "%timeit -n1 numeric_df.apply(lambda x: x['Experience'] * x['Upvotes'], axis=1)"
   ],
   "metadata": {
    "collapsed": false,
    "pycharm": {
     "name": "#%%\n"
    }
   }
  },
  {
   "cell_type": "markdown",
   "source": [
    "Ok, so we got a better performance than `iterrows`, but it is about 20x slower than `itertuples`! WTF?\n",
    "\n",
    "Let's try using one of pandas' built-in functions (the full list of built-in functions can be found [here](https://pandas.pydata.org/pandas-docs/stable/user_guide/basics.html#descriptive-statistics))"
   ],
   "metadata": {
    "collapsed": false,
    "pycharm": {
     "name": "#%% md\n"
    }
   }
  },
  {
   "cell_type": "code",
   "execution_count": 10,
   "outputs": [
    {
     "name": "stdout",
     "output_type": "stream",
     "text": [
      "1.01 ms ± 419 µs per loop (mean ± std. dev. of 7 runs, 1 loop each)\n"
     ]
    }
   ],
   "source": [
    "%timeit -n1 numeric_df.apply('prod', axis=1)"
   ],
   "metadata": {
    "collapsed": false,
    "pycharm": {
     "name": "#%%\n"
    }
   }
  },
  {
   "cell_type": "markdown",
   "source": [
    "Huh? What happened here? We got a 10x improvement over `itertuples`!\n",
    "\n",
    "Pandas' built-in functions are written in highly optimized `Cython` code, so their execution is much more efficient. Prefer using them whenever appropriate.\n",
    "\n",
    "We can also enhance our custom function's performance by implementing it in `Cython` or using `numba.jit`, but it is out of this guide's scope (you can find more information [here](https://pandas.pydata.org/pandas-docs/stable/user_guide/enhancingperf.html))."
   ],
   "metadata": {
    "collapsed": false,
    "pycharm": {
     "name": "#%% md\n"
    }
   }
  },
  {
   "cell_type": "markdown",
   "metadata": {},
   "source": [
    "#### 1.1.3 Converting DataFrame to row-major order\n",
    "If you need to do a lot of row operations, or can't use a built-in function, you might want to convert your `DataFrame` to NumPy's row-major `ndarray`, then iterating through the rows.\n",
    "\n",
    "This will get us a decent improvement over `itertuples` (2-5x)."
   ]
  },
  {
   "cell_type": "code",
   "execution_count": 11,
   "metadata": {
    "pycharm": {
     "name": "#%%\n"
    }
   },
   "outputs": [
    {
     "name": "stdout",
     "output_type": "stream",
     "text": [
      "81.4 µs ± 33.7 µs per loop (mean ± std. dev. of 7 runs, 1 loop each)\n",
      "6.19 ms ± 354 µs per loop (mean ± std. dev. of 7 runs, 1 loop each)\n"
     ]
    }
   ],
   "source": [
    "%timeit -n1 numeric_df_np = numeric_df.to_numpy()\n",
    "numeric_df_np = numeric_df.to_numpy()\n",
    "%timeit -n1 [row[0]*row[1] for row in numeric_df_np]"
   ]
  },
  {
   "cell_type": "markdown",
   "source": [
    "This speedup stems from the fact that accessing a row or a column of our `ndarray` takes nanoseconds instead of microseconds.\n",
    "Notice how numpy is faster when accessing rows, and pandas is faster when accessing columns."
   ],
   "metadata": {
    "collapsed": false,
    "pycharm": {
     "name": "#%% md\n"
    }
   }
  },
  {
   "cell_type": "code",
   "execution_count": 12,
   "outputs": [
    {
     "name": "stdout",
     "output_type": "stream",
     "text": [
      "Accessing an np.ndarray\n",
      "129 ns ± 13.3 ns per loop (mean ± std. dev. of 7 runs, 100 loops each)\n",
      "190 ns ± 8.62 ns per loop (mean ± std. dev. of 7 runs, 100 loops each)\n",
      "\n",
      "Accessing a pd.DataFrame\n",
      "115 µs ± 23.4 µs per loop (mean ± std. dev. of 7 runs, 100 loops each)\n",
      "46.3 µs ± 4.19 µs per loop (mean ± std. dev. of 7 runs, 100 loops each)\n"
     ]
    }
   ],
   "source": [
    "print(\"Accessing an np.ndarray\")\n",
    "%timeit -n100 numeric_df_np[0]\n",
    "%timeit -n100 numeric_df_np[:,0]\n",
    "print(\"\\nAccessing a pd.DataFrame\")\n",
    "%timeit -n100 numeric_df.iloc[0]\n",
    "%timeit -n100 numeric_df.iloc[:,0]"
   ],
   "metadata": {
    "collapsed": false,
    "pycharm": {
     "name": "#%%\n"
    }
   }
  },
  {
   "cell_type": "markdown",
   "source": [
    "#### 1.1.4 Vectorizing our function\n",
    "\n",
    "In many cases, we can rewrite our function so that it is column-vectorizable.\n",
    "This gives us the biggest performance boost yet - 2-3x faster than pandas' built-in Cython function."
   ],
   "metadata": {
    "collapsed": false,
    "pycharm": {
     "name": "#%% md\n"
    }
   }
  },
  {
   "cell_type": "code",
   "execution_count": 13,
   "outputs": [
    {
     "name": "stdout",
     "output_type": "stream",
     "text": [
      "378 µs ± 135 µs per loop (mean ± std. dev. of 7 runs, 1 loop each)\n"
     ]
    }
   ],
   "source": [
    "%timeit -n1 numeric_df['Experience'] * numeric_df['Upvotes']"
   ],
   "metadata": {
    "collapsed": false,
    "pycharm": {
     "name": "#%%\n"
    }
   }
  },
  {
   "cell_type": "markdown",
   "source": [
    "### 1.2. Ordering slicing operations\n",
    "Because pandas is column-major, if you want to do multiple slicing operations, **always do the column-based slicing operations first**.\n",
    "\n",
    "For example, if you want to get the review from the first row of the data, there are two slicing operations:\n",
    "- get row (row-based operation)\n",
    "- get review (column-based operation)\n",
    "\n",
    "Get row -> get review is 25x slower than get review -> get row.\n",
    "\n",
    "**Note**: You can also use `df.loc[0, \"Review\"]` to calculate the memory address to retrieve the item. Its performance is comparable to get review then get row (but still a bit slower)."
   ],
   "metadata": {
    "collapsed": false,
    "pycharm": {
     "name": "#%% md\n"
    }
   }
  },
  {
   "cell_type": "code",
   "execution_count": 14,
   "outputs": [
    {
     "name": "stdout",
     "output_type": "stream",
     "text": [
      "5.17 µs ± 575 ns per loop (mean ± std. dev. of 7 runs, 1000 loops each)\n",
      "107 µs ± 5.47 µs per loop (mean ± std. dev. of 7 runs, 1000 loops each)\n",
      "6.76 µs ± 338 ns per loop (mean ± std. dev. of 7 runs, 1000 loops each)\n"
     ]
    }
   ],
   "source": [
    "%timeit -n1000 df[\"Review\"][0]\n",
    "%timeit -n1000 df.iloc[0][\"Review\"]\n",
    "%timeit -n1000 df.loc[0, \"Review\"]"
   ],
   "metadata": {
    "collapsed": false,
    "pycharm": {
     "name": "#%%\n"
    }
   }
  },
  {
   "cell_type": "markdown",
   "source": [
    "## 2. SettingWithCopyWarning\n",
    "Sometimes, when you try to assign values to a subset of data in a DataFrame, you get `SettingWithCopyWarning`. Don't ignore the warning because it means sometimes, the assignment works (example 1), but sometimes, it doesn't (example 2)."
   ],
   "metadata": {
    "collapsed": false
   }
  },
  {
   "cell_type": "code",
   "execution_count": 15,
   "outputs": [
    {
     "name": "stderr",
     "output_type": "stream",
     "text": [
      "c:\\users\\yairf\\anaconda3\\envs\\deep\\lib\\site-packages\\ipykernel_launcher.py:2: SettingWithCopyWarning: \n",
      "A value is trying to be set on a copy of a slice from a DataFrame\n",
      "\n",
      "See the caveats in the documentation: https://pandas.pydata.org/pandas-docs/stable/user_guide/indexing.html#returning-a-view-versus-a-copy\n",
      "  \n"
     ]
    },
    {
     "data": {
      "text/plain": "  Company              Title                Job     Level         Date  \\\n0   Apple  Software Engineer  Software Engineer  Engineer  Aug 7, 2019   \n\n   Upvotes     Offer  Experience Difficulty                 Review  \n0        0  No offer         0.0     Medium  I like Orange better.  ",
      "text/html": "<div>\n<style scoped>\n    .dataframe tbody tr th:only-of-type {\n        vertical-align: middle;\n    }\n\n    .dataframe tbody tr th {\n        vertical-align: top;\n    }\n\n    .dataframe thead th {\n        text-align: right;\n    }\n</style>\n<table border=\"1\" class=\"dataframe\">\n  <thead>\n    <tr style=\"text-align: right;\">\n      <th></th>\n      <th>Company</th>\n      <th>Title</th>\n      <th>Job</th>\n      <th>Level</th>\n      <th>Date</th>\n      <th>Upvotes</th>\n      <th>Offer</th>\n      <th>Experience</th>\n      <th>Difficulty</th>\n      <th>Review</th>\n    </tr>\n  </thead>\n  <tbody>\n    <tr>\n      <th>0</th>\n      <td>Apple</td>\n      <td>Software Engineer</td>\n      <td>Software Engineer</td>\n      <td>Engineer</td>\n      <td>Aug 7, 2019</td>\n      <td>0</td>\n      <td>No offer</td>\n      <td>0.0</td>\n      <td>Medium</td>\n      <td>I like Orange better.</td>\n    </tr>\n  </tbody>\n</table>\n</div>"
     },
     "execution_count": 15,
     "metadata": {},
     "output_type": "execute_result"
    }
   ],
   "source": [
    "# Example 1: Changing the review of the first row.\n",
    "df[\"Review\"][0] = \"I like Orange better.\"\n",
    "# Even though with the warning, the assignment works. The review is updated.\n",
    "df.head(1)"
   ],
   "metadata": {
    "collapsed": false,
    "pycharm": {
     "name": "#%%\n"
    }
   }
  },
  {
   "cell_type": "code",
   "execution_count": 16,
   "outputs": [
    {
     "name": "stderr",
     "output_type": "stream",
     "text": [
      "c:\\users\\yairf\\anaconda3\\envs\\deep\\lib\\site-packages\\ipykernel_launcher.py:2: SettingWithCopyWarning: \n",
      "A value is trying to be set on a copy of a slice from a DataFrame.\n",
      "Try using .loc[row_indexer,col_indexer] = value instead\n",
      "\n",
      "See the caveats in the documentation: https://pandas.pydata.org/pandas-docs/stable/user_guide/indexing.html#returning-a-view-versus-a-copy\n",
      "  \n"
     ]
    },
    {
     "data": {
      "text/plain": "  Company              Title                Job     Level         Date  \\\n0   Apple  Software Engineer  Software Engineer  Engineer  Aug 7, 2019   \n\n   Upvotes     Offer  Experience Difficulty                 Review  \n0        0  No offer         0.0     Medium  I like Orange better.  ",
      "text/html": "<div>\n<style scoped>\n    .dataframe tbody tr th:only-of-type {\n        vertical-align: middle;\n    }\n\n    .dataframe tbody tr th {\n        vertical-align: top;\n    }\n\n    .dataframe thead th {\n        text-align: right;\n    }\n</style>\n<table border=\"1\" class=\"dataframe\">\n  <thead>\n    <tr style=\"text-align: right;\">\n      <th></th>\n      <th>Company</th>\n      <th>Title</th>\n      <th>Job</th>\n      <th>Level</th>\n      <th>Date</th>\n      <th>Upvotes</th>\n      <th>Offer</th>\n      <th>Experience</th>\n      <th>Difficulty</th>\n      <th>Review</th>\n    </tr>\n  </thead>\n  <tbody>\n    <tr>\n      <th>0</th>\n      <td>Apple</td>\n      <td>Software Engineer</td>\n      <td>Software Engineer</td>\n      <td>Engineer</td>\n      <td>Aug 7, 2019</td>\n      <td>0</td>\n      <td>No offer</td>\n      <td>0.0</td>\n      <td>Medium</td>\n      <td>I like Orange better.</td>\n    </tr>\n  </tbody>\n</table>\n</div>"
     },
     "execution_count": 16,
     "metadata": {},
     "output_type": "execute_result"
    }
   ],
   "source": [
    "# Example 2: Changing the company name Apple to Orange.\n",
    "df[df[\"Company\"] == \"Apple\"][\"Company\"] = \"Orange\"\n",
    "# With the warning, the assignment doesn't work. The company name is still Apple.\n",
    "df.head(1)"
   ],
   "metadata": {
    "collapsed": false,
    "pycharm": {
     "name": "#%%\n"
    }
   }
  },
  {
   "cell_type": "markdown",
   "source": [
    "### 2.1. `View` vs. `Copy`\n",
    "To understand this weird behavior, we need to understand two concepts in pandas: `View` vs. `Copy`.\n",
    "- `View` is the actual `DataFrame` you want to work with.\n",
    "- `Copy` is a copy of that actual `DataFrame`, which will be thrown away as soon as the operation is done.\n",
    "\n",
    "So if you try to do an assignment on a `Copy`, the assignment won't work.\n",
    "\n",
    "`SettingWithCopyWarning` doesn't mean you're making changes to a `Copy`. It means that the thing you're making changes to might be a `Copy` or a `View`, and pandas can't tell you.\n",
    "\n",
    "The ambiguity happens because of `__getitem__` operation.\n",
    "`__getitem__` sometimes returns a `Copy`, sometimes a `View`, and pandas makes no guarantee."
   ],
   "metadata": {
    "collapsed": false
   }
  },
  {
   "cell_type": "code",
   "execution_count": 17,
   "outputs": [],
   "source": [
    "# df[\"Review\"][0] = \"I like Orange better.\"\n",
    "# can be understood as\n",
    "# `df.__getitem__(\"Review\").__setitem__(0, \"I like Orange better.\")`"
   ],
   "metadata": {
    "collapsed": false,
    "pycharm": {
     "name": "#%%\n"
    }
   }
  },
  {
   "cell_type": "code",
   "execution_count": 18,
   "outputs": [],
   "source": [
    "# df[df[\"Company\"] == \"Apple\"][\"Company\"] = \"Orange\"\n",
    "# can be understood as\n",
    "# df.__getitem__(where df[\"Company\"] == \"Apple\").__setitem__(\"Company\", \"Orange\")"
   ],
   "metadata": {
    "collapsed": false,
    "pycharm": {
     "name": "#%%\n"
    }
   }
  },
  {
   "cell_type": "markdown",
   "source": [
    "### 2.2 Solutions\n",
    "#### 2.2.1 Combine all chained operations into one single operation\n",
    "To avoid `__getitem__` ambiguity, you can combine all your operations into one single operation.\n",
    "`.loc[]` is usually great for that."
   ],
   "metadata": {
    "collapsed": false
   }
  },
  {
   "cell_type": "code",
   "execution_count": 19,
   "outputs": [
    {
     "data": {
      "text/plain": "  Company              Title                Job     Level          Date  \\\n0   Apple  Software Engineer  Software Engineer  Engineer   Aug 7, 2019   \n1   Apple  Software Engineer  Software Engineer  Engineer   Aug 8, 2019   \n2   Apple  Software Engineer  Software Engineer  Engineer           NaN   \n3   Apple  Software Engineer  Software Engineer  Engineer           NaN   \n4   Apple  Software Engineer  Software Engineer  Engineer  May 29, 2009   \n\n   Upvotes           Offer  Experience Difficulty  \\\n0        0        No offer         0.0     Medium   \n1        0  Accepted offer         1.0       Hard   \n2        0  Declined offer         0.0     Medium   \n3        9  Declined offer        -1.0     Medium   \n4        2        No offer         0.0     Medium   \n\n                                              Review  \n0                    Orange is love. Orange is life.  \n1  Application  I applied online. The process too...  \n2  Application  The process took 4 weeks. I inter...  \n3  Application  The process took a week. I interv...  \n4  Application  I applied through an employee ref...  ",
      "text/html": "<div>\n<style scoped>\n    .dataframe tbody tr th:only-of-type {\n        vertical-align: middle;\n    }\n\n    .dataframe tbody tr th {\n        vertical-align: top;\n    }\n\n    .dataframe thead th {\n        text-align: right;\n    }\n</style>\n<table border=\"1\" class=\"dataframe\">\n  <thead>\n    <tr style=\"text-align: right;\">\n      <th></th>\n      <th>Company</th>\n      <th>Title</th>\n      <th>Job</th>\n      <th>Level</th>\n      <th>Date</th>\n      <th>Upvotes</th>\n      <th>Offer</th>\n      <th>Experience</th>\n      <th>Difficulty</th>\n      <th>Review</th>\n    </tr>\n  </thead>\n  <tbody>\n    <tr>\n      <th>0</th>\n      <td>Apple</td>\n      <td>Software Engineer</td>\n      <td>Software Engineer</td>\n      <td>Engineer</td>\n      <td>Aug 7, 2019</td>\n      <td>0</td>\n      <td>No offer</td>\n      <td>0.0</td>\n      <td>Medium</td>\n      <td>Orange is love. Orange is life.</td>\n    </tr>\n    <tr>\n      <th>1</th>\n      <td>Apple</td>\n      <td>Software Engineer</td>\n      <td>Software Engineer</td>\n      <td>Engineer</td>\n      <td>Aug 8, 2019</td>\n      <td>0</td>\n      <td>Accepted offer</td>\n      <td>1.0</td>\n      <td>Hard</td>\n      <td>Application  I applied online. The process too...</td>\n    </tr>\n    <tr>\n      <th>2</th>\n      <td>Apple</td>\n      <td>Software Engineer</td>\n      <td>Software Engineer</td>\n      <td>Engineer</td>\n      <td>NaN</td>\n      <td>0</td>\n      <td>Declined offer</td>\n      <td>0.0</td>\n      <td>Medium</td>\n      <td>Application  The process took 4 weeks. I inter...</td>\n    </tr>\n    <tr>\n      <th>3</th>\n      <td>Apple</td>\n      <td>Software Engineer</td>\n      <td>Software Engineer</td>\n      <td>Engineer</td>\n      <td>NaN</td>\n      <td>9</td>\n      <td>Declined offer</td>\n      <td>-1.0</td>\n      <td>Medium</td>\n      <td>Application  The process took a week. I interv...</td>\n    </tr>\n    <tr>\n      <th>4</th>\n      <td>Apple</td>\n      <td>Software Engineer</td>\n      <td>Software Engineer</td>\n      <td>Engineer</td>\n      <td>May 29, 2009</td>\n      <td>2</td>\n      <td>No offer</td>\n      <td>0.0</td>\n      <td>Medium</td>\n      <td>Application  I applied through an employee ref...</td>\n    </tr>\n  </tbody>\n</table>\n</div>"
     },
     "execution_count": 19,
     "metadata": {},
     "output_type": "execute_result"
    }
   ],
   "source": [
    "# Changing the review of the first row.\n",
    "df.loc[0, \"Review\"] = \"Orange is love. Orange is life.\"\n",
    "df.head()"
   ],
   "metadata": {
    "collapsed": false,
    "pycharm": {
     "name": "#%%\n"
    }
   }
  },
  {
   "cell_type": "code",
   "execution_count": 20,
   "outputs": [
    {
     "data": {
      "text/plain": "  Company              Title                Job     Level          Date  \\\n0  Orange  Software Engineer  Software Engineer  Engineer   Aug 7, 2019   \n1  Orange  Software Engineer  Software Engineer  Engineer   Aug 8, 2019   \n2  Orange  Software Engineer  Software Engineer  Engineer           NaN   \n3  Orange  Software Engineer  Software Engineer  Engineer           NaN   \n4  Orange  Software Engineer  Software Engineer  Engineer  May 29, 2009   \n\n   Upvotes           Offer  Experience Difficulty  \\\n0        0        No offer         0.0     Medium   \n1        0  Accepted offer         1.0       Hard   \n2        0  Declined offer         0.0     Medium   \n3        9  Declined offer        -1.0     Medium   \n4        2        No offer         0.0     Medium   \n\n                                              Review  \n0                    Orange is love. Orange is life.  \n1  Application  I applied online. The process too...  \n2  Application  The process took 4 weeks. I inter...  \n3  Application  The process took a week. I interv...  \n4  Application  I applied through an employee ref...  ",
      "text/html": "<div>\n<style scoped>\n    .dataframe tbody tr th:only-of-type {\n        vertical-align: middle;\n    }\n\n    .dataframe tbody tr th {\n        vertical-align: top;\n    }\n\n    .dataframe thead th {\n        text-align: right;\n    }\n</style>\n<table border=\"1\" class=\"dataframe\">\n  <thead>\n    <tr style=\"text-align: right;\">\n      <th></th>\n      <th>Company</th>\n      <th>Title</th>\n      <th>Job</th>\n      <th>Level</th>\n      <th>Date</th>\n      <th>Upvotes</th>\n      <th>Offer</th>\n      <th>Experience</th>\n      <th>Difficulty</th>\n      <th>Review</th>\n    </tr>\n  </thead>\n  <tbody>\n    <tr>\n      <th>0</th>\n      <td>Orange</td>\n      <td>Software Engineer</td>\n      <td>Software Engineer</td>\n      <td>Engineer</td>\n      <td>Aug 7, 2019</td>\n      <td>0</td>\n      <td>No offer</td>\n      <td>0.0</td>\n      <td>Medium</td>\n      <td>Orange is love. Orange is life.</td>\n    </tr>\n    <tr>\n      <th>1</th>\n      <td>Orange</td>\n      <td>Software Engineer</td>\n      <td>Software Engineer</td>\n      <td>Engineer</td>\n      <td>Aug 8, 2019</td>\n      <td>0</td>\n      <td>Accepted offer</td>\n      <td>1.0</td>\n      <td>Hard</td>\n      <td>Application  I applied online. The process too...</td>\n    </tr>\n    <tr>\n      <th>2</th>\n      <td>Orange</td>\n      <td>Software Engineer</td>\n      <td>Software Engineer</td>\n      <td>Engineer</td>\n      <td>NaN</td>\n      <td>0</td>\n      <td>Declined offer</td>\n      <td>0.0</td>\n      <td>Medium</td>\n      <td>Application  The process took 4 weeks. I inter...</td>\n    </tr>\n    <tr>\n      <th>3</th>\n      <td>Orange</td>\n      <td>Software Engineer</td>\n      <td>Software Engineer</td>\n      <td>Engineer</td>\n      <td>NaN</td>\n      <td>9</td>\n      <td>Declined offer</td>\n      <td>-1.0</td>\n      <td>Medium</td>\n      <td>Application  The process took a week. I interv...</td>\n    </tr>\n    <tr>\n      <th>4</th>\n      <td>Orange</td>\n      <td>Software Engineer</td>\n      <td>Software Engineer</td>\n      <td>Engineer</td>\n      <td>May 29, 2009</td>\n      <td>2</td>\n      <td>No offer</td>\n      <td>0.0</td>\n      <td>Medium</td>\n      <td>Application  I applied through an employee ref...</td>\n    </tr>\n  </tbody>\n</table>\n</div>"
     },
     "execution_count": 20,
     "metadata": {},
     "output_type": "execute_result"
    }
   ],
   "source": [
    "# Changing the company name Apple to Orange.\n",
    "df.loc[df[\"Company\"] == \"Apple\", \"Company\"] = \"Orange\"\n",
    "df.head()"
   ],
   "metadata": {
    "collapsed": false,
    "pycharm": {
     "name": "#%%\n"
    }
   }
  },
  {
   "cell_type": "markdown",
   "source": [
    "#### 2.2.2 Raise an error\n",
    "I believe `SettingWithCopyWarning` should be an Exception instead of a warning. You can change this warning into an exception with pandas' magic `set_option()`."
   ],
   "metadata": {
    "collapsed": false
   }
  },
  {
   "cell_type": "code",
   "execution_count": 21,
   "outputs": [],
   "source": [
    "pd.set_option(\"mode.chained_assignment\", \"raise\")\n",
    "# Running this will show you an Exception\n",
    "# df[\"Review\"][0] = \"I like Orange better.\""
   ],
   "metadata": {
    "collapsed": false,
    "pycharm": {
     "name": "#%%\n"
    }
   }
  },
  {
   "cell_type": "markdown",
   "source": [
    "## 3. Accessors\n",
    "\n",
    "### 3.1 string accessor\n",
    "`.str` allows you to apply built-in string functions to all strings in a column (aka a pandas Series). These built-in functions come in handy when you want to do some basic string processing."
   ],
   "metadata": {
    "collapsed": false
   }
  },
  {
   "cell_type": "code",
   "execution_count": 22,
   "outputs": [
    {
     "data": {
      "text/plain": "0                          orange is love. orange is life.\n1        application  i applied online. the process too...\n2        application  the process took 4 weeks. i inter...\n3        application  the process took a week. i interv...\n4        application  i applied through an employee ref...\n                               ...                        \n17649    application  i applied online. the process too...\n17650    application  i applied through college or univ...\n17651    application  i applied through college or univ...\n17652    application  i applied through college or univ...\n17653    application  i applied online. the process too...\nName: Review, Length: 17654, dtype: object"
     },
     "execution_count": 22,
     "metadata": {},
     "output_type": "execute_result"
    }
   ],
   "source": [
    "# If you want to lowercase all the reviews in the `Reviews` column.\n",
    "df[\"Review\"].str.lower()"
   ],
   "metadata": {
    "collapsed": false,
    "pycharm": {
     "name": "#%%\n"
    }
   }
  },
  {
   "cell_type": "code",
   "execution_count": 23,
   "outputs": [
    {
     "data": {
      "text/plain": "0         31\n1        670\n2        350\n3        807\n4        663\n        ... \n17649    470\n17650    394\n17651    524\n17652    391\n17653    784\nName: Review, Length: 17654, dtype: int64"
     },
     "execution_count": 23,
     "metadata": {},
     "output_type": "execute_result"
    }
   ],
   "source": [
    "# Or if you want to get the length of all the reviews\n",
    "df.Review.str.len()"
   ],
   "metadata": {
    "collapsed": false,
    "pycharm": {
     "name": "#%%\n"
    }
   }
  },
  {
   "cell_type": "markdown",
   "source": [
    "`.str` can be very powerful if you use it with Regex. Imagine you want to get a sense of how long the interview process takes for each review. You notice that each review mentions how long it takes such as \"the process took 4 weeks\". So you use this heuristic:\n",
    "- a process is short if it takes days\n",
    "- a process is average is if it takes weeks\n",
    "- a process is long if it takes at least 4 weeks"
   ],
   "metadata": {
    "collapsed": false
   }
  },
  {
   "cell_type": "code",
   "execution_count": 24,
   "outputs": [
    {
     "data": {
      "text/plain": "                                                  Review  Process\n1      Application  I applied online. The process too...     Long\n2      Application  The process took 4 weeks. I inter...     Long\n3      Application  The process took a week. I interv...  Average\n5      Application  I applied through college or univ...     Long\n6      Application  The process took 2 days. I interv...    Short\n...                                                  ...      ...\n17645  Application  I applied online. The process too...  Average\n17647  Application  I applied through college or univ...     Long\n17648  Application  I applied online. The process too...    Short\n17649  Application  I applied online. The process too...  Average\n17653  Application  I applied online. The process too...  Average\n\n[12161 rows x 2 columns]",
      "text/html": "<div>\n<style scoped>\n    .dataframe tbody tr th:only-of-type {\n        vertical-align: middle;\n    }\n\n    .dataframe tbody tr th {\n        vertical-align: top;\n    }\n\n    .dataframe thead th {\n        text-align: right;\n    }\n</style>\n<table border=\"1\" class=\"dataframe\">\n  <thead>\n    <tr style=\"text-align: right;\">\n      <th></th>\n      <th>Review</th>\n      <th>Process</th>\n    </tr>\n  </thead>\n  <tbody>\n    <tr>\n      <th>1</th>\n      <td>Application  I applied online. The process too...</td>\n      <td>Long</td>\n    </tr>\n    <tr>\n      <th>2</th>\n      <td>Application  The process took 4 weeks. I inter...</td>\n      <td>Long</td>\n    </tr>\n    <tr>\n      <th>3</th>\n      <td>Application  The process took a week. I interv...</td>\n      <td>Average</td>\n    </tr>\n    <tr>\n      <th>5</th>\n      <td>Application  I applied through college or univ...</td>\n      <td>Long</td>\n    </tr>\n    <tr>\n      <th>6</th>\n      <td>Application  The process took 2 days. I interv...</td>\n      <td>Short</td>\n    </tr>\n    <tr>\n      <th>...</th>\n      <td>...</td>\n      <td>...</td>\n    </tr>\n    <tr>\n      <th>17645</th>\n      <td>Application  I applied online. The process too...</td>\n      <td>Average</td>\n    </tr>\n    <tr>\n      <th>17647</th>\n      <td>Application  I applied through college or univ...</td>\n      <td>Long</td>\n    </tr>\n    <tr>\n      <th>17648</th>\n      <td>Application  I applied online. The process too...</td>\n      <td>Short</td>\n    </tr>\n    <tr>\n      <th>17649</th>\n      <td>Application  I applied online. The process too...</td>\n      <td>Average</td>\n    </tr>\n    <tr>\n      <th>17653</th>\n      <td>Application  I applied online. The process too...</td>\n      <td>Average</td>\n    </tr>\n  </tbody>\n</table>\n<p>12161 rows × 2 columns</p>\n</div>"
     },
     "execution_count": 24,
     "metadata": {},
     "output_type": "execute_result"
    }
   ],
   "source": [
    "df.loc[df[\"Review\"].str.contains(\"days\"), \"Process\"] = \"Short\"\n",
    "df.loc[df[\"Review\"].str.contains(\"week\"), \"Process\"] = \"Average\"\n",
    "df.loc[df[\"Review\"].str.contains(\"month|[4-9]+[^ ]* weeks|[1-9]\\d{1,}[^ ]* weeks\"), \"Process\"] = \"Long\"\n",
    "df[~df.Process.isna()][[\"Review\", \"Process\"]]"
   ],
   "metadata": {
    "collapsed": false,
    "pycharm": {
     "name": "#%%\n"
    }
   }
  },
  {
   "cell_type": "code",
   "execution_count": 25,
   "outputs": [
    {
     "data": {
      "text/plain": "dict_keys(['__module__', '__annotations__', '__doc__', '__init__', '_validate', '__getitem__', '__iter__', '_wrap_result', '_get_series_list', 'cat', 'split', 'rsplit', 'partition', 'rpartition', 'get', 'join', 'contains', 'match', 'fullmatch', 'replace', 'repeat', 'pad', 'center', 'ljust', 'rjust', 'zfill', 'slice', 'slice_replace', 'decode', 'encode', 'strip', 'lstrip', 'rstrip', 'wrap', 'get_dummies', 'translate', 'count', 'startswith', 'endswith', 'findall', 'extract', 'extractall', 'find', 'rfind', 'normalize', 'index', 'rindex', 'len', '_doc_args', 'lower', 'upper', 'title', 'capitalize', 'swapcase', 'casefold', 'isalnum', 'isalpha', 'isdigit', 'isspace', 'islower', 'isupper', 'istitle', 'isnumeric', 'isdecimal'])"
     },
     "execution_count": 25,
     "metadata": {},
     "output_type": "execute_result"
    }
   ],
   "source": [
    "# To see the built-in functions available for `.str`, use this\n",
    "pd.Series.str.__dict__.keys()"
   ],
   "metadata": {
    "collapsed": false,
    "pycharm": {
     "name": "#%%\n"
    }
   }
  },
  {
   "cell_type": "markdown",
   "source": [
    "**Note**: The `.str` accessor is very convenient and offers a range of useful built-in functions, but it usually does not give a significant speedup. Still, it reads nicely and very helpful."
   ],
   "metadata": {
    "collapsed": false
   }
  },
  {
   "cell_type": "code",
   "execution_count": 26,
   "outputs": [
    {
     "name": "stdout",
     "output_type": "stream",
     "text": [
      "75.9 ms ± 4.38 ms per loop (mean ± std. dev. of 7 runs, 5 loops each)\n",
      "89.5 ms ± 7.99 ms per loop (mean ± std. dev. of 7 runs, 5 loops each)\n",
      "360 ms ± 23.4 ms per loop (mean ± std. dev. of 7 runs, 5 loops each)\n",
      "343 ms ± 16.7 ms per loop (mean ± std. dev. of 7 runs, 5 loops each)\n"
     ]
    }
   ],
   "source": [
    "%timeit -n5 df[\"Review\"].str.lower()\n",
    "%timeit -n5 df[\"Review\"].apply(lambda x: x.lower())\n",
    "\n",
    "import re\n",
    "%timeit -n5 df[\"Review\"].str.contains(\"month|[4-9]+[^ ]* weeks|[1-9]\\d{1,}[^ ]* weeks\")\n",
    "%timeit -n5 df[\"Review\"].apply(lambda x: re.search(\"month|[4-9]+[^ ]* weeks|[1-9]\\d{1,}[^ ]* weeks\", x))"
   ],
   "metadata": {
    "collapsed": false,
    "pycharm": {
     "name": "#%%\n"
    }
   }
  },
  {
   "cell_type": "markdown",
   "source": [
    "### 3.2 datetime accessor\n",
    "\n",
    "`.dt` allows you to perform date related operations on datetime columns."
   ],
   "metadata": {
    "collapsed": false,
    "pycharm": {
     "name": "#%% md\n"
    }
   }
  },
  {
   "cell_type": "code",
   "execution_count": 27,
   "outputs": [
    {
     "data": {
      "text/plain": "0         Aug 7, 2019\n1         Aug 8, 2019\n2                 NaN\n3                 NaN\n4        May 29, 2009\n             ...     \n17649    May 25, 2012\n17650    Mar 15, 2014\n17651    Sep 22, 2015\n17652     Jul 4, 2017\n17653    Sep 30, 2016\nName: Date, Length: 17654, dtype: object"
     },
     "execution_count": 27,
     "metadata": {},
     "output_type": "execute_result"
    }
   ],
   "source": [
    "df['Date']"
   ],
   "metadata": {
    "collapsed": false,
    "pycharm": {
     "name": "#%%\n"
    }
   }
  },
  {
   "cell_type": "markdown",
   "source": [
    "To use the `dt` accessor, we must first convert our series into a datetime series. Pandas' `to_datetime` method knows how to automatically parse strings into datetime objects:"
   ],
   "metadata": {
    "collapsed": false,
    "pycharm": {
     "name": "#%% md\n"
    }
   }
  },
  {
   "cell_type": "code",
   "execution_count": 28,
   "outputs": [
    {
     "data": {
      "text/plain": "0       2019-08-07\n1       2019-08-08\n2              NaT\n3              NaT\n4       2009-05-29\n           ...    \n17649   2012-05-25\n17650   2014-03-15\n17651   2015-09-22\n17652   2017-07-04\n17653   2016-09-30\nName: Date, Length: 17654, dtype: datetime64[ns]"
     },
     "execution_count": 28,
     "metadata": {},
     "output_type": "execute_result"
    }
   ],
   "source": [
    "date_series = pd.to_datetime(df['Date'])\n",
    "date_series"
   ],
   "metadata": {
    "collapsed": false,
    "pycharm": {
     "name": "#%%\n"
    }
   }
  },
  {
   "cell_type": "code",
   "execution_count": 29,
   "outputs": [
    {
     "data": {
      "text/plain": "0        Wednesday\n1         Thursday\n2              NaN\n3              NaN\n4           Friday\n           ...    \n17649       Friday\n17650     Saturday\n17651      Tuesday\n17652      Tuesday\n17653       Friday\nName: Date, Length: 17654, dtype: object"
     },
     "execution_count": 29,
     "metadata": {},
     "output_type": "execute_result"
    }
   ],
   "source": [
    "date_series.dt.day_name()"
   ],
   "metadata": {
    "collapsed": false,
    "pycharm": {
     "name": "#%%\n"
    }
   }
  },
  {
   "cell_type": "code",
   "execution_count": 30,
   "outputs": [
    {
     "data": {
      "text/plain": "'ceil, date, day, day_name, day_of_week, day_of_year, dayofweek, dayofyear, days_in_month, daysinmonth, floor, freq, hour, is_leap_year, is_month_end, is_month_start, is_quarter_end, is_quarter_start, is_year_end, is_year_start, isocalendar, microsecond, minute, month, month_name, nanosecond, normalize, quarter, round, second, strftime, time, timetz, to_period, to_pydatetime, tz, tz_convert, tz_localize, week, weekday, weekofyear, year'"
     },
     "execution_count": 30,
     "metadata": {},
     "output_type": "execute_result"
    }
   ],
   "source": [
    "# To see the built-in functions available for `.str`, use this\n",
    "', '.join([x for x in date_series.dt.__dir__() if not x.startswith('_')])"
   ],
   "metadata": {
    "collapsed": false,
    "pycharm": {
     "name": "#%%\n"
    }
   }
  },
  {
   "cell_type": "markdown",
   "source": [
    "Pandas offers a wide range of useful function to handle any type of temporal data - look here for more info [https://pandas.pydata.org/docs/user_guide/timeseries.html]()"
   ],
   "metadata": {
    "collapsed": false,
    "pycharm": {
     "name": "#%% md\n"
    }
   }
  },
  {
   "cell_type": "markdown",
   "source": [
    "### 3.3 Other accessors\n",
    "pandas `Series` currently has 2 other accessors.\n",
    "- `.cat`: handles categorical data\n",
    "- `.sparse`: handles sparse matrices\n",
    "\n",
    "We won't cover them in this tutorial."
   ],
   "metadata": {
    "collapsed": false
   }
  },
  {
   "cell_type": "code",
   "execution_count": 31,
   "outputs": [
    {
     "data": {
      "text/plain": "{'cat', 'dt', 'sparse', 'str'}"
     },
     "execution_count": 31,
     "metadata": {},
     "output_type": "execute_result"
    }
   ],
   "source": [
    "pd.Series._accessors"
   ],
   "metadata": {
    "collapsed": false,
    "pycharm": {
     "name": "#%%\n"
    }
   }
  },
  {
   "cell_type": "markdown",
   "source": [
    "## 4. Groupby\n",
    "\n",
    "Hopefully you are all already familiar with pandas' `groupby`. Here is a recap of the basic stuff you can do with it:"
   ],
   "metadata": {
    "collapsed": false,
    "pycharm": {
     "name": "#%% md\n"
    }
   }
  },
  {
   "cell_type": "code",
   "execution_count": 32,
   "outputs": [
    {
     "data": {
      "text/plain": "       Company              Title                Job     Level          Date  \\\n0       Orange  Software Engineer  Software Engineer  Engineer   Aug 7, 2019   \n1       Orange  Software Engineer  Software Engineer  Engineer   Aug 8, 2019   \n2       Orange  Software Engineer  Software Engineer  Engineer           NaN   \n3       Orange  Software Engineer  Software Engineer  Engineer           NaN   \n4       Orange  Software Engineer  Software Engineer  Engineer  May 29, 2009   \n...        ...                ...                ...       ...           ...   \n17649  Tencent  Software Engineer  Software Engineer  Engineer  May 25, 2012   \n17650  Tencent  Software Engineer  Software Engineer  Engineer  Mar 15, 2014   \n17651  Tencent  Software Engineer  Software Engineer  Engineer  Sep 22, 2015   \n17652  Tencent  Software Engineer  Software Engineer  Engineer   Jul 4, 2017   \n17653  Tencent  Software Engineer  Software Engineer  Engineer  Sep 30, 2016   \n\n       Upvotes           Offer  Experience Difficulty  \\\n0            0        No offer         0.0     Medium   \n1            0  Accepted offer         1.0       Hard   \n2            0  Declined offer         0.0     Medium   \n3            9  Declined offer        -1.0     Medium   \n4            2        No offer         0.0     Medium   \n...        ...             ...         ...        ...   \n17649        0  Declined offer         0.0     Medium   \n17650        0        No offer         NaN        NaN   \n17651        0  Accepted offer         1.0     Medium   \n17652        0  Declined offer         1.0     Medium   \n17653        0  Declined offer         0.0       Easy   \n\n                                                  Review  Process  \n0                        Orange is love. Orange is life.      NaN  \n1      Application  I applied online. The process too...     Long  \n2      Application  The process took 4 weeks. I inter...     Long  \n3      Application  The process took a week. I interv...  Average  \n4      Application  I applied through an employee ref...      NaN  \n...                                                  ...      ...  \n17649  Application  I applied online. The process too...  Average  \n17650  Application  I applied through college or univ...      NaN  \n17651  Application  I applied through college or univ...      NaN  \n17652  Application  I applied through college or univ...      NaN  \n17653  Application  I applied online. The process too...  Average  \n\n[17654 rows x 11 columns]",
      "text/html": "<div>\n<style scoped>\n    .dataframe tbody tr th:only-of-type {\n        vertical-align: middle;\n    }\n\n    .dataframe tbody tr th {\n        vertical-align: top;\n    }\n\n    .dataframe thead th {\n        text-align: right;\n    }\n</style>\n<table border=\"1\" class=\"dataframe\">\n  <thead>\n    <tr style=\"text-align: right;\">\n      <th></th>\n      <th>Company</th>\n      <th>Title</th>\n      <th>Job</th>\n      <th>Level</th>\n      <th>Date</th>\n      <th>Upvotes</th>\n      <th>Offer</th>\n      <th>Experience</th>\n      <th>Difficulty</th>\n      <th>Review</th>\n      <th>Process</th>\n    </tr>\n  </thead>\n  <tbody>\n    <tr>\n      <th>0</th>\n      <td>Orange</td>\n      <td>Software Engineer</td>\n      <td>Software Engineer</td>\n      <td>Engineer</td>\n      <td>Aug 7, 2019</td>\n      <td>0</td>\n      <td>No offer</td>\n      <td>0.0</td>\n      <td>Medium</td>\n      <td>Orange is love. Orange is life.</td>\n      <td>NaN</td>\n    </tr>\n    <tr>\n      <th>1</th>\n      <td>Orange</td>\n      <td>Software Engineer</td>\n      <td>Software Engineer</td>\n      <td>Engineer</td>\n      <td>Aug 8, 2019</td>\n      <td>0</td>\n      <td>Accepted offer</td>\n      <td>1.0</td>\n      <td>Hard</td>\n      <td>Application  I applied online. The process too...</td>\n      <td>Long</td>\n    </tr>\n    <tr>\n      <th>2</th>\n      <td>Orange</td>\n      <td>Software Engineer</td>\n      <td>Software Engineer</td>\n      <td>Engineer</td>\n      <td>NaN</td>\n      <td>0</td>\n      <td>Declined offer</td>\n      <td>0.0</td>\n      <td>Medium</td>\n      <td>Application  The process took 4 weeks. I inter...</td>\n      <td>Long</td>\n    </tr>\n    <tr>\n      <th>3</th>\n      <td>Orange</td>\n      <td>Software Engineer</td>\n      <td>Software Engineer</td>\n      <td>Engineer</td>\n      <td>NaN</td>\n      <td>9</td>\n      <td>Declined offer</td>\n      <td>-1.0</td>\n      <td>Medium</td>\n      <td>Application  The process took a week. I interv...</td>\n      <td>Average</td>\n    </tr>\n    <tr>\n      <th>4</th>\n      <td>Orange</td>\n      <td>Software Engineer</td>\n      <td>Software Engineer</td>\n      <td>Engineer</td>\n      <td>May 29, 2009</td>\n      <td>2</td>\n      <td>No offer</td>\n      <td>0.0</td>\n      <td>Medium</td>\n      <td>Application  I applied through an employee ref...</td>\n      <td>NaN</td>\n    </tr>\n    <tr>\n      <th>...</th>\n      <td>...</td>\n      <td>...</td>\n      <td>...</td>\n      <td>...</td>\n      <td>...</td>\n      <td>...</td>\n      <td>...</td>\n      <td>...</td>\n      <td>...</td>\n      <td>...</td>\n      <td>...</td>\n    </tr>\n    <tr>\n      <th>17649</th>\n      <td>Tencent</td>\n      <td>Software Engineer</td>\n      <td>Software Engineer</td>\n      <td>Engineer</td>\n      <td>May 25, 2012</td>\n      <td>0</td>\n      <td>Declined offer</td>\n      <td>0.0</td>\n      <td>Medium</td>\n      <td>Application  I applied online. The process too...</td>\n      <td>Average</td>\n    </tr>\n    <tr>\n      <th>17650</th>\n      <td>Tencent</td>\n      <td>Software Engineer</td>\n      <td>Software Engineer</td>\n      <td>Engineer</td>\n      <td>Mar 15, 2014</td>\n      <td>0</td>\n      <td>No offer</td>\n      <td>NaN</td>\n      <td>NaN</td>\n      <td>Application  I applied through college or univ...</td>\n      <td>NaN</td>\n    </tr>\n    <tr>\n      <th>17651</th>\n      <td>Tencent</td>\n      <td>Software Engineer</td>\n      <td>Software Engineer</td>\n      <td>Engineer</td>\n      <td>Sep 22, 2015</td>\n      <td>0</td>\n      <td>Accepted offer</td>\n      <td>1.0</td>\n      <td>Medium</td>\n      <td>Application  I applied through college or univ...</td>\n      <td>NaN</td>\n    </tr>\n    <tr>\n      <th>17652</th>\n      <td>Tencent</td>\n      <td>Software Engineer</td>\n      <td>Software Engineer</td>\n      <td>Engineer</td>\n      <td>Jul 4, 2017</td>\n      <td>0</td>\n      <td>Declined offer</td>\n      <td>1.0</td>\n      <td>Medium</td>\n      <td>Application  I applied through college or univ...</td>\n      <td>NaN</td>\n    </tr>\n    <tr>\n      <th>17653</th>\n      <td>Tencent</td>\n      <td>Software Engineer</td>\n      <td>Software Engineer</td>\n      <td>Engineer</td>\n      <td>Sep 30, 2016</td>\n      <td>0</td>\n      <td>Declined offer</td>\n      <td>0.0</td>\n      <td>Easy</td>\n      <td>Application  I applied online. The process too...</td>\n      <td>Average</td>\n    </tr>\n  </tbody>\n</table>\n<p>17654 rows × 11 columns</p>\n</div>"
     },
     "execution_count": 32,
     "metadata": {},
     "output_type": "execute_result"
    }
   ],
   "source": [
    "df"
   ],
   "metadata": {
    "collapsed": false,
    "pycharm": {
     "name": "#%%\n"
    }
   }
  },
  {
   "cell_type": "code",
   "execution_count": 33,
   "outputs": [
    {
     "data": {
      "text/plain": "          Upvotes  Experience\nProcess                      \nAverage  1.865839    0.427113\nLong     3.329441    0.457167\nShort    1.486523    0.446340",
      "text/html": "<div>\n<style scoped>\n    .dataframe tbody tr th:only-of-type {\n        vertical-align: middle;\n    }\n\n    .dataframe tbody tr th {\n        vertical-align: top;\n    }\n\n    .dataframe thead th {\n        text-align: right;\n    }\n</style>\n<table border=\"1\" class=\"dataframe\">\n  <thead>\n    <tr style=\"text-align: right;\">\n      <th></th>\n      <th>Upvotes</th>\n      <th>Experience</th>\n    </tr>\n    <tr>\n      <th>Process</th>\n      <th></th>\n      <th></th>\n    </tr>\n  </thead>\n  <tbody>\n    <tr>\n      <th>Average</th>\n      <td>1.865839</td>\n      <td>0.427113</td>\n    </tr>\n    <tr>\n      <th>Long</th>\n      <td>3.329441</td>\n      <td>0.457167</td>\n    </tr>\n    <tr>\n      <th>Short</th>\n      <td>1.486523</td>\n      <td>0.446340</td>\n    </tr>\n  </tbody>\n</table>\n</div>"
     },
     "execution_count": 33,
     "metadata": {},
     "output_type": "execute_result"
    }
   ],
   "source": [
    "# 1. group by a category, aggregate a column\n",
    "df.groupby('Process')[['Upvotes', 'Experience']].agg('mean')"
   ],
   "metadata": {
    "collapsed": false,
    "pycharm": {
     "name": "#%%\n"
    }
   }
  },
  {
   "cell_type": "code",
   "execution_count": 34,
   "outputs": [
    {
     "data": {
      "text/plain": "          Upvotes        Experience       \n             mean median       mean median\nProcess                                   \nAverage  1.865839    0.0   0.427113    1.0\nLong     3.329441    0.0   0.457167    1.0\nShort    1.486523    0.0   0.446340    1.0",
      "text/html": "<div>\n<style scoped>\n    .dataframe tbody tr th:only-of-type {\n        vertical-align: middle;\n    }\n\n    .dataframe tbody tr th {\n        vertical-align: top;\n    }\n\n    .dataframe thead tr th {\n        text-align: left;\n    }\n\n    .dataframe thead tr:last-of-type th {\n        text-align: right;\n    }\n</style>\n<table border=\"1\" class=\"dataframe\">\n  <thead>\n    <tr>\n      <th></th>\n      <th colspan=\"2\" halign=\"left\">Upvotes</th>\n      <th colspan=\"2\" halign=\"left\">Experience</th>\n    </tr>\n    <tr>\n      <th></th>\n      <th>mean</th>\n      <th>median</th>\n      <th>mean</th>\n      <th>median</th>\n    </tr>\n    <tr>\n      <th>Process</th>\n      <th></th>\n      <th></th>\n      <th></th>\n      <th></th>\n    </tr>\n  </thead>\n  <tbody>\n    <tr>\n      <th>Average</th>\n      <td>1.865839</td>\n      <td>0.0</td>\n      <td>0.427113</td>\n      <td>1.0</td>\n    </tr>\n    <tr>\n      <th>Long</th>\n      <td>3.329441</td>\n      <td>0.0</td>\n      <td>0.457167</td>\n      <td>1.0</td>\n    </tr>\n    <tr>\n      <th>Short</th>\n      <td>1.486523</td>\n      <td>0.0</td>\n      <td>0.446340</td>\n      <td>1.0</td>\n    </tr>\n  </tbody>\n</table>\n</div>"
     },
     "execution_count": 34,
     "metadata": {},
     "output_type": "execute_result"
    }
   ],
   "source": [
    "# 2. perform multiple aggregations\n",
    "df.groupby('Process')[['Upvotes', 'Experience']].agg(['mean', 'median'])"
   ],
   "metadata": {
    "collapsed": false,
    "pycharm": {
     "name": "#%%\n"
    }
   }
  },
  {
   "cell_type": "code",
   "execution_count": 35,
   "outputs": [
    {
     "data": {
      "text/plain": "        Upvotes           Experience     \n            sum      mean     median  max\nProcess                                  \nAverage   10973  1.865839        1.0  1.0\nLong      15968  3.329441        1.0  1.0\nShort      2206  1.486523        1.0  1.0",
      "text/html": "<div>\n<style scoped>\n    .dataframe tbody tr th:only-of-type {\n        vertical-align: middle;\n    }\n\n    .dataframe tbody tr th {\n        vertical-align: top;\n    }\n\n    .dataframe thead tr th {\n        text-align: left;\n    }\n\n    .dataframe thead tr:last-of-type th {\n        text-align: right;\n    }\n</style>\n<table border=\"1\" class=\"dataframe\">\n  <thead>\n    <tr>\n      <th></th>\n      <th colspan=\"2\" halign=\"left\">Upvotes</th>\n      <th colspan=\"2\" halign=\"left\">Experience</th>\n    </tr>\n    <tr>\n      <th></th>\n      <th>sum</th>\n      <th>mean</th>\n      <th>median</th>\n      <th>max</th>\n    </tr>\n    <tr>\n      <th>Process</th>\n      <th></th>\n      <th></th>\n      <th></th>\n      <th></th>\n    </tr>\n  </thead>\n  <tbody>\n    <tr>\n      <th>Average</th>\n      <td>10973</td>\n      <td>1.865839</td>\n      <td>1.0</td>\n      <td>1.0</td>\n    </tr>\n    <tr>\n      <th>Long</th>\n      <td>15968</td>\n      <td>3.329441</td>\n      <td>1.0</td>\n      <td>1.0</td>\n    </tr>\n    <tr>\n      <th>Short</th>\n      <td>2206</td>\n      <td>1.486523</td>\n      <td>1.0</td>\n      <td>1.0</td>\n    </tr>\n  </tbody>\n</table>\n</div>"
     },
     "execution_count": 35,
     "metadata": {},
     "output_type": "execute_result"
    }
   ],
   "source": [
    "# 3. Apply different aggregations per column\n",
    "df.groupby('Process').agg({'Upvotes' : ['sum', 'mean'], 'Experience' : ['median', 'max']})"
   ],
   "metadata": {
    "collapsed": false,
    "pycharm": {
     "name": "#%%\n"
    }
   }
  },
  {
   "cell_type": "code",
   "execution_count": 36,
   "outputs": [
    {
     "data": {
      "text/plain": "         median_upvotes  experience_std  random_stuff\nProcess                                              \nAverage        1.865839        0.754037      1.938359\nLong           3.329441        0.771530      3.568728\nShort          1.486523        0.751338      2.179571",
      "text/html": "<div>\n<style scoped>\n    .dataframe tbody tr th:only-of-type {\n        vertical-align: middle;\n    }\n\n    .dataframe tbody tr th {\n        vertical-align: top;\n    }\n\n    .dataframe thead th {\n        text-align: right;\n    }\n</style>\n<table border=\"1\" class=\"dataframe\">\n  <thead>\n    <tr style=\"text-align: right;\">\n      <th></th>\n      <th>median_upvotes</th>\n      <th>experience_std</th>\n      <th>random_stuff</th>\n    </tr>\n    <tr>\n      <th>Process</th>\n      <th></th>\n      <th></th>\n      <th></th>\n    </tr>\n  </thead>\n  <tbody>\n    <tr>\n      <th>Average</th>\n      <td>1.865839</td>\n      <td>0.754037</td>\n      <td>1.938359</td>\n    </tr>\n    <tr>\n      <th>Long</th>\n      <td>3.329441</td>\n      <td>0.771530</td>\n      <td>3.568728</td>\n    </tr>\n    <tr>\n      <th>Short</th>\n      <td>1.486523</td>\n      <td>0.751338</td>\n      <td>2.179571</td>\n    </tr>\n  </tbody>\n</table>\n</div>"
     },
     "execution_count": 36,
     "metadata": {},
     "output_type": "execute_result"
    }
   ],
   "source": [
    "# 4. Named aggregation - assign custom names for the aggregated columns\n",
    "df.groupby('Process').agg(median_upvotes=('Upvotes', 'mean'),\n",
    "                          experience_std=('Experience', 'std'),\n",
    "                          random_stuff=('Upvotes', lambda x: x.mean() + np.random.rand()))"
   ],
   "metadata": {
    "collapsed": false,
    "pycharm": {
     "name": "#%%\n"
    }
   }
  },
  {
   "cell_type": "code",
   "execution_count": 37,
   "outputs": [
    {
     "data": {
      "text/plain": "Process  Company\nAverage  Adobe       2.157895\n         Airbnb      6.485981\n         Amazon      1.106737\n         Cisco       0.395745\n         Dell        0.886076\n                      ...    \nShort    Tencent     0.000000\n         Twitter     1.894737\n         Uber       13.717949\n         Yelp        0.608696\n         eBay        2.909091\nName: Upvotes, Length: 84, dtype: float64"
     },
     "execution_count": 37,
     "metadata": {},
     "output_type": "execute_result"
    }
   ],
   "source": [
    "# 5. Group by multiple columns\n",
    "df.groupby(['Process', 'Company'])['Upvotes'].agg('mean')"
   ],
   "metadata": {
    "collapsed": false,
    "pycharm": {
     "name": "#%%\n"
    }
   }
  },
  {
   "cell_type": "code",
   "execution_count": 38,
   "outputs": [
    {
     "data": {
      "text/plain": "Company     Adobe    Airbnb    Amazon     Cisco      Dell  Facebook    Google  \\\nProcess                                                                         \nAverage  2.157895  6.485981  1.106737  0.395745  0.886076  2.620833  1.939962   \nLong     1.307692  6.372549  3.071207  1.203390  1.878049  4.401639  3.797228   \nShort    1.081081  6.769231  0.773585  0.357143  0.875000  2.578947  0.968354   \n\nCompany       IBM     Intel    Intuit  ...   Samsung   Siemens      Snap  \\\nProcess                                ...                                 \nAverage  0.915323  0.930435  2.013699  ...  0.289474  0.854545  2.282609   \nLong     1.129808  1.272727  2.184211  ...  0.517241  0.941176  2.222222   \nShort    0.401786  0.766667  0.583333  ...  0.545455  2.315789  3.111111   \n\nCompany    Square  Symantec  Tencent   Twitter       Uber      Yelp      eBay  \nProcess                                                                        \nAverage  2.658537  0.945455      0.0  1.944444   4.620690  1.191617  1.905660  \nLong     2.325000  0.821429      0.0  2.380952   3.881720  1.816092  3.781250  \nShort    2.833333  1.133333      0.0  1.894737  13.717949  0.608696  2.909091  \n\n[3 rows x 28 columns]",
      "text/html": "<div>\n<style scoped>\n    .dataframe tbody tr th:only-of-type {\n        vertical-align: middle;\n    }\n\n    .dataframe tbody tr th {\n        vertical-align: top;\n    }\n\n    .dataframe thead th {\n        text-align: right;\n    }\n</style>\n<table border=\"1\" class=\"dataframe\">\n  <thead>\n    <tr style=\"text-align: right;\">\n      <th>Company</th>\n      <th>Adobe</th>\n      <th>Airbnb</th>\n      <th>Amazon</th>\n      <th>Cisco</th>\n      <th>Dell</th>\n      <th>Facebook</th>\n      <th>Google</th>\n      <th>IBM</th>\n      <th>Intel</th>\n      <th>Intuit</th>\n      <th>...</th>\n      <th>Samsung</th>\n      <th>Siemens</th>\n      <th>Snap</th>\n      <th>Square</th>\n      <th>Symantec</th>\n      <th>Tencent</th>\n      <th>Twitter</th>\n      <th>Uber</th>\n      <th>Yelp</th>\n      <th>eBay</th>\n    </tr>\n    <tr>\n      <th>Process</th>\n      <th></th>\n      <th></th>\n      <th></th>\n      <th></th>\n      <th></th>\n      <th></th>\n      <th></th>\n      <th></th>\n      <th></th>\n      <th></th>\n      <th></th>\n      <th></th>\n      <th></th>\n      <th></th>\n      <th></th>\n      <th></th>\n      <th></th>\n      <th></th>\n      <th></th>\n      <th></th>\n      <th></th>\n    </tr>\n  </thead>\n  <tbody>\n    <tr>\n      <th>Average</th>\n      <td>2.157895</td>\n      <td>6.485981</td>\n      <td>1.106737</td>\n      <td>0.395745</td>\n      <td>0.886076</td>\n      <td>2.620833</td>\n      <td>1.939962</td>\n      <td>0.915323</td>\n      <td>0.930435</td>\n      <td>2.013699</td>\n      <td>...</td>\n      <td>0.289474</td>\n      <td>0.854545</td>\n      <td>2.282609</td>\n      <td>2.658537</td>\n      <td>0.945455</td>\n      <td>0.0</td>\n      <td>1.944444</td>\n      <td>4.620690</td>\n      <td>1.191617</td>\n      <td>1.905660</td>\n    </tr>\n    <tr>\n      <th>Long</th>\n      <td>1.307692</td>\n      <td>6.372549</td>\n      <td>3.071207</td>\n      <td>1.203390</td>\n      <td>1.878049</td>\n      <td>4.401639</td>\n      <td>3.797228</td>\n      <td>1.129808</td>\n      <td>1.272727</td>\n      <td>2.184211</td>\n      <td>...</td>\n      <td>0.517241</td>\n      <td>0.941176</td>\n      <td>2.222222</td>\n      <td>2.325000</td>\n      <td>0.821429</td>\n      <td>0.0</td>\n      <td>2.380952</td>\n      <td>3.881720</td>\n      <td>1.816092</td>\n      <td>3.781250</td>\n    </tr>\n    <tr>\n      <th>Short</th>\n      <td>1.081081</td>\n      <td>6.769231</td>\n      <td>0.773585</td>\n      <td>0.357143</td>\n      <td>0.875000</td>\n      <td>2.578947</td>\n      <td>0.968354</td>\n      <td>0.401786</td>\n      <td>0.766667</td>\n      <td>0.583333</td>\n      <td>...</td>\n      <td>0.545455</td>\n      <td>2.315789</td>\n      <td>3.111111</td>\n      <td>2.833333</td>\n      <td>1.133333</td>\n      <td>0.0</td>\n      <td>1.894737</td>\n      <td>13.717949</td>\n      <td>0.608696</td>\n      <td>2.909091</td>\n    </tr>\n  </tbody>\n</table>\n<p>3 rows × 28 columns</p>\n</div>"
     },
     "execution_count": 38,
     "metadata": {},
     "output_type": "execute_result"
    }
   ],
   "source": [
    "# 6. Unstack a hierarchical index\n",
    "df.groupby(['Process', 'Company'])['Upvotes'].agg('mean').unstack(level=1)"
   ],
   "metadata": {
    "collapsed": false,
    "pycharm": {
     "name": "#%%\n"
    }
   }
  },
  {
   "cell_type": "code",
   "execution_count": 39,
   "outputs": [
    {
     "data": {
      "text/plain": "('Average',\n        Company              Title                Job     Level          Date  \\\n 3       Orange  Software Engineer  Software Engineer  Engineer           NaN   \n 9       Orange  Software Engineer  Software Engineer  Engineer   Jul 4, 2019   \n 13      Orange  Software Engineer  Software Engineer  Engineer   Nov 9, 2009   \n 17      Orange  Software Engineer  Software Engineer  Engineer  Feb 27, 2010   \n 20      Orange  Software Engineer  Software Engineer  Engineer  Jun 30, 2010   \n ...        ...                ...                ...       ...           ...   \n 17640  Tencent  Software Engineer  Software Engineer  Engineer  Dec 27, 2014   \n 17642  Tencent  Software Engineer  Software Engineer  Engineer   Aug 4, 2016   \n 17645  Tencent  Software Engineer  Software Engineer  Engineer  Jan 15, 2016   \n 17649  Tencent  Software Engineer  Software Engineer  Engineer  May 25, 2012   \n 17653  Tencent  Software Engineer  Software Engineer  Engineer  Sep 30, 2016   \n \n        Upvotes           Offer  Experience Difficulty  \\\n 3            9  Declined offer        -1.0     Medium   \n 9            1  Accepted offer         1.0       Hard   \n 13           0        No offer         0.0     Medium   \n 17           7  Declined offer        -1.0     Medium   \n 20           1        No offer         0.0       Hard   \n ...        ...             ...         ...        ...   \n 17640        0  Accepted offer         NaN     Medium   \n 17642        0        No offer         1.0     Medium   \n 17645        0        No offer         0.0     Medium   \n 17649        0  Declined offer         0.0     Medium   \n 17653        0  Declined offer         0.0       Easy   \n \n                                                   Review  Process  \n 3      Application  The process took a week. I interv...  Average  \n 9      Application  I applied online. The process too...  Average  \n 13     Application  The process took 2 weeks. I inter...  Average  \n 17     Application  The process took 1 day. I intervi...  Average  \n 20     Application  I applied in-person. The process ...  Average  \n ...                                                  ...      ...  \n 17640  Interview  2 weeks, 5 round tech interviews, i...  Average  \n 17642  Application  I applied online. The process too...  Average  \n 17645  Application  I applied online. The process too...  Average  \n 17649  Application  I applied online. The process too...  Average  \n 17653  Application  I applied online. The process too...  Average  \n \n [5881 rows x 11 columns])"
     },
     "execution_count": 39,
     "metadata": {},
     "output_type": "execute_result"
    }
   ],
   "source": [
    "# 7. Iterate over the groups\n",
    "next(iter(df.groupby('Process')))"
   ],
   "metadata": {
    "collapsed": false,
    "pycharm": {
     "name": "#%%\n"
    }
   }
  },
  {
   "cell_type": "code",
   "execution_count": 40,
   "outputs": [
    {
     "data": {
      "text/plain": "{'Average': [3, 9, 13, 17, 20, 21, 23, 29, 31, 32, 33, 38, 43, 47, 55, 62, 63, 66, 68, 69, 70, 71, 72, 75, 77, 79, 80, 81, 83, 89, 90, 93, 100, 112, 113, 117, 122, 123, 124, 125, 126, 128, 129, 130, 133, 141, 146, 151, 153, 154, 157, 160, 161, 163, 166, 170, 171, 172, 177, 179, 180, 181, 183, 184, 189, 194, 200, 203, 208, 209, 211, 213, 219, 221, 222, 223, 224, 225, 226, 229, 232, 234, 243, 244, 246, 249, 254, 258, 262, 269, 274, 278, 279, 281, 283, 284, 285, 291, 294, 298, ...], 'Long': [1, 2, 5, 7, 10, 16, 24, 30, 37, 39, 41, 50, 59, 60, 76, 82, 84, 91, 94, 98, 99, 101, 102, 105, 108, 109, 111, 114, 116, 118, 120, 131, 134, 138, 142, 147, 150, 152, 158, 164, 165, 168, 174, 175, 176, 185, 186, 188, 190, 192, 193, 195, 197, 198, 201, 204, 205, 206, 214, 233, 236, 239, 240, 241, 245, 250, 257, 268, 271, 273, 275, 277, 280, 286, 287, 289, 290, 292, 297, 302, 312, 314, 322, 340, 344, 345, 346, 354, 355, 360, 361, 362, 364, 373, 382, 387, 389, 393, 394, 399, ...], 'Short': [6, 15, 19, 22, 51, 52, 53, 54, 56, 65, 78, 86, 115, 121, 132, 136, 140, 149, 162, 167, 169, 191, 202, 230, 231, 242, 248, 251, 252, 261, 270, 276, 282, 295, 341, 359, 370, 384, 425, 432, 434, 438, 446, 456, 462, 463, 475, 482, 489, 520, 522, 541, 548, 550, 564, 565, 576, 603, 612, 631, 663, 666, 668, 669, 671, 680, 712, 718, 751, 761, 765, 781, 798, 804, 814, 827, 828, 830, 855, 863, 885, 905, 908, 919, 924, 928, 936, 939, 945, 946, 954, 956, 992, 1007, 1020, 1025, 1042, 1049, 1054, 1057, ...]}"
     },
     "execution_count": 40,
     "metadata": {},
     "output_type": "execute_result"
    }
   ],
   "source": [
    "# 8. get a {group -> indices} mapping\n",
    "df.groupby('Process').groups"
   ],
   "metadata": {
    "collapsed": false,
    "pycharm": {
     "name": "#%%\n"
    }
   }
  },
  {
   "cell_type": "markdown",
   "source": [
    "## 5. Windowing Operations\n",
    "\n",
    "Pandas provides useful functions for performing windowing operations - an operation that performs an aggregation over a sliding partition of values.\n",
    "\n",
    "For example, lets find out the amount of upvotes in each window of 5 days:"
   ],
   "metadata": {
    "collapsed": false,
    "pycharm": {
     "name": "#%% md\n"
    }
   }
  },
  {
   "cell_type": "code",
   "execution_count": 41,
   "outputs": [
    {
     "data": {
      "text/plain": "Date\n2009-03-05    26.0\n2009-03-11    35.0\n2009-03-11    36.0\n2009-03-17    39.0\n2009-03-18    39.0\n              ... \n2019-08-15    96.0\n2019-08-16    87.0\n2019-08-16    87.0\n2019-08-16    87.0\n2019-08-16    87.0\nName: Upvotes, Length: 17652, dtype: float64"
     },
     "execution_count": 41,
     "metadata": {},
     "output_type": "execute_result"
    }
   ],
   "source": [
    "df_by_time = df.set_index(pd.to_datetime(df['Date'])).sort_index().dropna(subset=['Date'])\n",
    "df_by_time['Upvotes'].rolling('30D', closed='both', center=True).count()"
   ],
   "metadata": {
    "collapsed": false,
    "pycharm": {
     "name": "#%%\n"
    }
   }
  },
  {
   "cell_type": "markdown",
   "source": [
    "Of course, we do not have to use a datetime index for applying rolling windows - the window size can be also set to a fixed number of rows instead of a time frame.\n",
    "\n",
    "There are a bunch of other cool stuff we can do with rolling windows, like combining them with `groupby` calls and performing weighted moving averages. Take a look at [https://pandas.pydata.org/docs/user_guide/window.html#windowing-operations]()"
   ],
   "metadata": {
    "collapsed": false,
    "pycharm": {
     "name": "#%% md\n"
    }
   }
  },
  {
   "cell_type": "markdown",
   "source": [
    "## 6. Combining data from multiple tables\n",
    "\n",
    "Pandas has full-featured, high performance in-memory join operations idiomatically very similar to relational databases like SQL.\n",
    "\n",
    "We will not go into relational algebra concepts in this tutorial, but if you are not familiar with SQL, then you should probably go through this tutorial: [https://pandas.pydata.org/docs/user_guide/merging.html#database-style-dataframe-or-named-series-joining-merging]().\n",
    "\n",
    "In short, whenever you have multiple datasource you want to merge / compare, you should almost never iterate naively over the table and manually perform the operations you desire. Use `pd.merge` and other similar functions like `join`, `combine`, `combine_first` etc. (look these up!).\n",
    "\n",
    "Here is a simple example for using `pd.merge`:"
   ],
   "metadata": {
    "collapsed": false,
    "pycharm": {
     "name": "#%% md\n"
    }
   }
  },
  {
   "cell_type": "code",
   "execution_count": 42,
   "outputs": [
    {
     "data": {
      "text/plain": "  key   A   B   C   D\n0  K0  A0  B0  C0  D0\n1  K1  A1  B1  C1  D1\n2  K2  A2  B2  C2  D2\n3  K3  A3  B3  C3  D3",
      "text/html": "<div>\n<style scoped>\n    .dataframe tbody tr th:only-of-type {\n        vertical-align: middle;\n    }\n\n    .dataframe tbody tr th {\n        vertical-align: top;\n    }\n\n    .dataframe thead th {\n        text-align: right;\n    }\n</style>\n<table border=\"1\" class=\"dataframe\">\n  <thead>\n    <tr style=\"text-align: right;\">\n      <th></th>\n      <th>key</th>\n      <th>A</th>\n      <th>B</th>\n      <th>C</th>\n      <th>D</th>\n    </tr>\n  </thead>\n  <tbody>\n    <tr>\n      <th>0</th>\n      <td>K0</td>\n      <td>A0</td>\n      <td>B0</td>\n      <td>C0</td>\n      <td>D0</td>\n    </tr>\n    <tr>\n      <th>1</th>\n      <td>K1</td>\n      <td>A1</td>\n      <td>B1</td>\n      <td>C1</td>\n      <td>D1</td>\n    </tr>\n    <tr>\n      <th>2</th>\n      <td>K2</td>\n      <td>A2</td>\n      <td>B2</td>\n      <td>C2</td>\n      <td>D2</td>\n    </tr>\n    <tr>\n      <th>3</th>\n      <td>K3</td>\n      <td>A3</td>\n      <td>B3</td>\n      <td>C3</td>\n      <td>D3</td>\n    </tr>\n  </tbody>\n</table>\n</div>"
     },
     "execution_count": 42,
     "metadata": {},
     "output_type": "execute_result"
    }
   ],
   "source": [
    "left = pd.DataFrame(\n",
    "    {\n",
    "        \"key\": [\"K0\", \"K1\", \"K2\", \"K3\"],\n",
    "        \"A\": [\"A0\", \"A1\", \"A2\", \"A3\"],\n",
    "        \"B\": [\"B0\", \"B1\", \"B2\", \"B3\"],\n",
    "    }\n",
    ")\n",
    "\n",
    "\n",
    "right = pd.DataFrame(\n",
    "    {\n",
    "        \"key\": [\"K0\", \"K1\", \"K2\", \"K3\"],\n",
    "        \"C\": [\"C0\", \"C1\", \"C2\", \"C3\"],\n",
    "        \"D\": [\"D0\", \"D1\", \"D2\", \"D3\"],\n",
    "    }\n",
    ")\n",
    "\n",
    "pd.merge(left, right, on=\"key\")"
   ],
   "metadata": {
    "collapsed": false,
    "pycharm": {
     "name": "#%%\n"
    }
   }
  },
  {
   "cell_type": "markdown",
   "source": [
    "## 7. Plotting with pandas\n",
    "\n",
    "Haven't we all tried to create a bunch of plots, and hated the surrounding boilerplate?\n",
    "Pandas makes our life easier by providing the `pd.DataFrame/Series.plot` method. Here are a few examples:"
   ],
   "metadata": {
    "collapsed": false,
    "pycharm": {
     "name": "#%% md\n"
    }
   }
  },
  {
   "cell_type": "code",
   "execution_count": 43,
   "outputs": [],
   "source": [
    "import seaborn\n",
    "seaborn.set()  # this just makes the default plotting prettier"
   ],
   "metadata": {
    "collapsed": false,
    "pycharm": {
     "name": "#%%\n"
    }
   }
  },
  {
   "cell_type": "code",
   "execution_count": 44,
   "outputs": [
    {
     "data": {
      "text/plain": "<AxesSubplot:xlabel='Date'>"
     },
     "execution_count": 44,
     "metadata": {},
     "output_type": "execute_result"
    },
    {
     "data": {
      "text/plain": "<Figure size 864x504 with 1 Axes>",
      "image/png": "[encoded data removed]"
     },
     "metadata": {},
     "output_type": "display_data"
    }
   ],
   "source": [
    "# Naively plot the number of upvotes in each date\n",
    "df_by_time.plot(y='Upvotes', figsize=(12,7))"
   ],
   "metadata": {
    "collapsed": false,
    "pycharm": {
     "name": "#%%\n"
    }
   }
  },
  {
   "cell_type": "code",
   "execution_count": 45,
   "outputs": [
    {
     "data": {
      "text/plain": "<AxesSubplot:xlabel='Date'>"
     },
     "execution_count": 45,
     "metadata": {},
     "output_type": "execute_result"
    },
    {
     "data": {
      "text/plain": "<Figure size 864x504 with 1 Axes>",
      "image/png": "[encoded data removed]"
     },
     "metadata": {},
     "output_type": "display_data"
    }
   ],
   "source": [
    "# Plot the number of upvotes in each month\n",
    "df_by_time.groupby(df_by_time.index.to_period('M'))['Upvotes'].agg('sum').plot(figsize=(12,7))"
   ],
   "metadata": {
    "collapsed": false,
    "pycharm": {
     "name": "#%%\n"
    }
   }
  },
  {
   "cell_type": "code",
   "execution_count": 46,
   "outputs": [
    {
     "data": {
      "text/plain": "<AxesSubplot:xlabel='Date'>"
     },
     "execution_count": 46,
     "metadata": {},
     "output_type": "execute_result"
    },
    {
     "data": {
      "text/plain": "<Figure size 864x504 with 1 Axes>",
      "image/png": "[encoded data removed]"
     },
     "metadata": {},
     "output_type": "display_data"
    }
   ],
   "source": [
    "# Use rolling instead; this will produce a data point for each date instead of each month\n",
    "df_by_time['Upvotes'].rolling('30D').agg('sum').plot(figsize=(12,7))"
   ],
   "metadata": {
    "collapsed": false,
    "pycharm": {
     "name": "#%%\n"
    }
   }
  },
  {
   "cell_type": "code",
   "execution_count": 47,
   "outputs": [
    {
     "data": {
      "text/plain": "<AxesSubplot:xlabel='Company'>"
     },
     "execution_count": 47,
     "metadata": {},
     "output_type": "execute_result"
    },
    {
     "data": {
      "text/plain": "<Figure size 1080x576 with 1 Axes>",
      "image/png": "[encoded data removed]"
     },
     "metadata": {},
     "output_type": "display_data"
    }
   ],
   "source": [
    "# Group the DataFrame by \"Company\" and \"Process\", count the number of elements,\n",
    "# then unstack by \"Process\", then plot a bar chart\n",
    "df.groupby([\"Company\", \"Process\"]).size().unstack(level=1).plot(kind=\"bar\", figsize=(15, 8))"
   ],
   "metadata": {
    "collapsed": false,
    "pycharm": {
     "name": "#%%\n"
    }
   }
  },
  {
   "cell_type": "markdown",
   "source": [
    "### 7.1 Produce Bokeh plots using the `pandas-bokeh` package"
   ],
   "metadata": {
    "collapsed": false,
    "pycharm": {
     "name": "#%% md\n"
    }
   }
  },
  {
   "cell_type": "code",
   "execution_count": 48,
   "outputs": [
    {
     "data": {
      "text/html": "<div class=\"bk-root\">\n        <a href=\"https://bokeh.org\" target=\"_blank\" class=\"bk-logo bk-logo-small bk-logo-notebook\"></a>\n        <span id=\"1002\">Loading BokehJS ...</span>\n    </div>\n"
     },
     "metadata": {},
     "output_type": "display_data"
    },
    {
     "data": {
      "application/javascript": "(function(root) {\n  function now() {\n    return new Date();\n  }\n\n  const force = true;\n\n  if (typeof root._bokeh_onload_callbacks === \"undefined\" || force === true) {\n    root._bokeh_onload_callbacks = [];\n    root._bokeh_is_loading = undefined;\n  }\n\nconst JS_MIME_TYPE = 'application/javascript';\n  const HTML_MIME_TYPE = 'text/html';\n  const EXEC_MIME_TYPE = 'application/vnd.bokehjs_exec.v0+json';\n  const CLASS_NAME = 'output_bokeh rendered_html';\n\n  /**\n   * Render data to the DOM node\n   */\n  function render(props, node) {\n    const script = document.createElement(\"script\");\n    node.appendChild(script);\n  }\n\n  /**\n   * Handle when an output is cleared or removed\n   */\n  function handleClearOutput(event, handle) {\n    const cell = handle.cell;\n\n    const id = cell.output_area._bokeh_element_id;\n    const server_id = cell.output_area._bokeh_server_id;\n    // Clean up Bokeh references\n    if (id != null && id in Bokeh.index) {\n      Bokeh.index[id].model.document.clear();\n      delete Bokeh.index[id];\n    }\n\n    if (server_id !== undefined) {\n      // Clean up Bokeh references\n      const cmd_clean = \"from bokeh.io.state import curstate; print(curstate().uuid_to_server['\" + server_id + \"'].get_sessions()[0].document.roots[0]._id)\";\n      cell.notebook.kernel.execute(cmd_clean, {\n        iopub: {\n          output: function(msg) {\n            const id = msg.content.text.trim();\n            if (id in Bokeh.index) {\n              Bokeh.index[id].model.document.clear();\n              delete Bokeh.index[id];\n            }\n          }\n        }\n      });\n      // Destroy server and session\n      const cmd_destroy = \"import bokeh.io.notebook as ion; ion.destroy_server('\" + server_id + \"')\";\n      cell.notebook.kernel.execute(cmd_destroy);\n    }\n  }\n\n  /**\n   * Handle when a new output is added\n   */\n  function handleAddOutput(event, handle) {\n    const output_area = handle.output_area;\n    const output = handle.output;\n\n    // limit handleAddOutput to display_data with EXEC_MIME_TYPE content only\n    if ((output.output_type != \"display_data\") || (!Object.prototype.hasOwnProperty.call(output.data, EXEC_MIME_TYPE))) {\n      return\n    }\n\n    const toinsert = output_area.element.find(\".\" + CLASS_NAME.split(' ')[0]);\n\n    if (output.metadata[EXEC_MIME_TYPE][\"id\"] !== undefined) {\n      toinsert[toinsert.length - 1].firstChild.textContent = output.data[JS_MIME_TYPE];\n      // store reference to embed id on output_area\n      output_area._bokeh_element_id = output.metadata[EXEC_MIME_TYPE][\"id\"];\n    }\n    if (output.metadata[EXEC_MIME_TYPE][\"server_id\"] !== undefined) {\n      const bk_div = document.createElement(\"div\");\n      bk_div.innerHTML = output.data[HTML_MIME_TYPE];\n      const script_attrs = bk_div.children[0].attributes;\n      for (let i = 0; i < script_attrs.length; i++) {\n        toinsert[toinsert.length - 1].firstChild.setAttribute(script_attrs[i].name, script_attrs[i].value);\n        toinsert[toinsert.length - 1].firstChild.textContent = bk_div.children[0].textContent\n      }\n      // store reference to server id on output_area\n      output_area._bokeh_server_id = output.metadata[EXEC_MIME_TYPE][\"server_id\"];\n    }\n  }\n\n  function register_renderer(events, OutputArea) {\n\n    function append_mime(data, metadata, element) {\n      // create a DOM node to render to\n      const toinsert = this.create_output_subarea(\n        metadata,\n        CLASS_NAME,\n        EXEC_MIME_TYPE\n      );\n      this.keyboard_manager.register_events(toinsert);\n      // Render to node\n      const props = {data: data, metadata: metadata[EXEC_MIME_TYPE]};\n      render(props, toinsert[toinsert.length - 1]);\n      element.append(toinsert);\n      return toinsert\n    }\n\n    /* Handle when an output is cleared or removed */\n    events.on('clear_output.CodeCell', handleClearOutput);\n    events.on('delete.Cell', handleClearOutput);\n\n    /* Handle when a new output is added */\n    events.on('output_added.OutputArea', handleAddOutput);\n\n    /**\n     * Register the mime type and append_mime function with output_area\n     */\n    OutputArea.prototype.register_mime_type(EXEC_MIME_TYPE, append_mime, {\n      /* Is output safe? */\n      safe: true,\n      /* Index of renderer in `output_area.display_order` */\n      index: 0\n    });\n  }\n\n  // register the mime type if in Jupyter Notebook environment and previously unregistered\n  if (root.Jupyter !== undefined) {\n    const events = require('base/js/events');\n    const OutputArea = require('notebook/js/outputarea').OutputArea;\n\n    if (OutputArea.prototype.mime_types().indexOf(EXEC_MIME_TYPE) == -1) {\n      register_renderer(events, OutputArea);\n    }\n  }\n  if (typeof (root._bokeh_timeout) === \"undefined\" || force === true) {\n    root._bokeh_timeout = Date.now() + 5000;\n    root._bokeh_failed_load = false;\n  }\n\n  const NB_LOAD_WARNING = {'data': {'text/html':\n     \"<div style='background-color: #fdd'>\\n\"+\n     \"<p>\\n\"+\n     \"BokehJS does not appear to have successfully loaded. If loading BokehJS from CDN, this \\n\"+\n     \"may be due to a slow or bad network connection. Possible fixes:\\n\"+\n     \"</p>\\n\"+\n     \"<ul>\\n\"+\n     \"<li>re-rerun `output_notebook()` to attempt to load from CDN again, or</li>\\n\"+\n     \"<li>use INLINE resources instead, as so:</li>\\n\"+\n     \"</ul>\\n\"+\n     \"<code>\\n\"+\n     \"from bokeh.resources import INLINE\\n\"+\n     \"output_notebook(resources=INLINE)\\n\"+\n     \"</code>\\n\"+\n     \"</div>\"}};\n\n  function display_loaded() {\n    const el = document.getElementById(\"1002\");\n    if (el != null) {\n      el.textContent = \"BokehJS is loading...\";\n    }\n    if (root.Bokeh !== undefined) {\n      if (el != null) {\n        el.textContent = \"BokehJS \" + root.Bokeh.version + \" successfully loaded.\";\n      }\n    } else if (Date.now() < root._bokeh_timeout) {\n      setTimeout(display_loaded, 100)\n    }\n  }\n\n  function run_callbacks() {\n    try {\n      root._bokeh_onload_callbacks.forEach(function(callback) {\n        if (callback != null)\n          callback();\n      });\n    } finally {\n      delete root._bokeh_onload_callbacks\n    }\n    console.debug(\"Bokeh: all callbacks have finished\");\n  }\n\n  function load_libs(css_urls, js_urls, callback) {\n    if (css_urls == null) css_urls = [];\n    if (js_urls == null) js_urls = [];\n\n    root._bokeh_onload_callbacks.push(callback);\n    if (root._bokeh_is_loading > 0) {\n      console.debug(\"Bokeh: BokehJS is being loaded, scheduling callback at\", now());\n      return null;\n    }\n    if (js_urls == null || js_urls.length === 0) {\n      run_callbacks();\n      return null;\n    }\n    console.debug(\"Bokeh: BokehJS not loaded, scheduling load and callback at\", now());\n    root._bokeh_is_loading = css_urls.length + js_urls.length;\n\n    function on_load() {\n      root._bokeh_is_loading--;\n      if (root._bokeh_is_loading === 0) {\n        console.debug(\"Bokeh: all BokehJS libraries/stylesheets loaded\");\n        run_callbacks()\n      }\n    }\n\n    function on_error(url) {\n      console.error(\"failed to load \" + url);\n    }\n\n    for (let i = 0; i < css_urls.length; i++) {\n      const url = css_urls[i];\n      const element = document.createElement(\"link\");\n      element.onload = on_load;\n      element.onerror = on_error.bind(null, url);\n      element.rel = \"stylesheet\";\n      element.type = \"text/css\";\n      element.href = url;\n      console.debug(\"Bokeh: injecting link tag for BokehJS stylesheet: \", url);\n      document.body.appendChild(element);\n    }\n\n    for (let i = 0; i < js_urls.length; i++) {\n      const url = js_urls[i];\n      const element = document.createElement('script');\n      element.onload = on_load;\n      element.onerror = on_error.bind(null, url);\n      element.async = false;\n      element.src = url;\n      console.debug(\"Bokeh: injecting script tag for BokehJS library: \", url);\n      document.head.appendChild(element);\n    }\n  };\n\n  function inject_raw_css(css) {\n    const element = document.createElement(\"style\");\n    element.appendChild(document.createTextNode(css));\n    document.body.appendChild(element);\n  }\n\n  const js_urls = [\"https://cdn.bokeh.org/bokeh/release/bokeh-2.4.3.min.js\", \"https://cdn.bokeh.org/bokeh/release/bokeh-gl-2.4.3.min.js\", \"https://cdn.bokeh.org/bokeh/release/bokeh-widgets-2.4.3.min.js\", \"https://cdn.bokeh.org/bokeh/release/bokeh-tables-2.4.3.min.js\", \"https://cdn.bokeh.org/bokeh/release/bokeh-mathjax-2.4.3.min.js\"];\n  const css_urls = [];\n\n  const inline_js = [    function(Bokeh) {\n      Bokeh.set_log_level(\"info\");\n    },\nfunction(Bokeh) {\n    }\n  ];\n\n  function run_inline_js() {\n    if (root.Bokeh !== undefined || force === true) {\n          for (let i = 0; i < inline_js.length; i++) {\n      inline_js[i].call(root, root.Bokeh);\n    }\nif (force === true) {\n        display_loaded();\n      }} else if (Date.now() < root._bokeh_timeout) {\n      setTimeout(run_inline_js, 100);\n    } else if (!root._bokeh_failed_load) {\n      console.log(\"Bokeh: BokehJS failed to load within specified timeout.\");\n      root._bokeh_failed_load = true;\n    } else if (force !== true) {\n      const cell = $(document.getElementById(\"1002\")).parents('.cell').data().cell;\n      cell.output_area.append_execute_result(NB_LOAD_WARNING)\n    }\n  }\n\n  if (root._bokeh_is_loading === 0) {\n    console.debug(\"Bokeh: BokehJS loaded, going straight to plotting\");\n    run_inline_js();\n  } else {\n    load_libs(css_urls, js_urls, function() {\n      console.debug(\"Bokeh: BokehJS plotting callback run at\", now());\n      run_inline_js();\n    });\n  }\n}(window));",
      "application/vnd.bokehjs_load.v0+json": "(function(root) {\n  function now() {\n    return new Date();\n  }\n\n  const force = true;\n\n  if (typeof root._bokeh_onload_callbacks === \"undefined\" || force === true) {\n    root._bokeh_onload_callbacks = [];\n    root._bokeh_is_loading = undefined;\n  }\n\n\n  if (typeof (root._bokeh_timeout) === \"undefined\" || force === true) {\n    root._bokeh_timeout = Date.now() + 5000;\n    root._bokeh_failed_load = false;\n  }\n\n  const NB_LOAD_WARNING = {'data': {'text/html':\n     \"<div style='background-color: #fdd'>\\n\"+\n     \"<p>\\n\"+\n     \"BokehJS does not appear to have successfully loaded. If loading BokehJS from CDN, this \\n\"+\n     \"may be due to a slow or bad network connection. Possible fixes:\\n\"+\n     \"</p>\\n\"+\n     \"<ul>\\n\"+\n     \"<li>re-rerun `output_notebook()` to attempt to load from CDN again, or</li>\\n\"+\n     \"<li>use INLINE resources instead, as so:</li>\\n\"+\n     \"</ul>\\n\"+\n     \"<code>\\n\"+\n     \"from bokeh.resources import INLINE\\n\"+\n     \"output_notebook(resources=INLINE)\\n\"+\n     \"</code>\\n\"+\n     \"</div>\"}};\n\n  function display_loaded() {\n    const el = document.getElementById(\"1002\");\n    if (el != null) {\n      el.textContent = \"BokehJS is loading...\";\n    }\n    if (root.Bokeh !== undefined) {\n      if (el != null) {\n        el.textContent = \"BokehJS \" + root.Bokeh.version + \" successfully loaded.\";\n      }\n    } else if (Date.now() < root._bokeh_timeout) {\n      setTimeout(display_loaded, 100)\n    }\n  }\n\n  function run_callbacks() {\n    try {\n      root._bokeh_onload_callbacks.forEach(function(callback) {\n        if (callback != null)\n          callback();\n      });\n    } finally {\n      delete root._bokeh_onload_callbacks\n    }\n    console.debug(\"Bokeh: all callbacks have finished\");\n  }\n\n  function load_libs(css_urls, js_urls, callback) {\n    if (css_urls == null) css_urls = [];\n    if (js_urls == null) js_urls = [];\n\n    root._bokeh_onload_callbacks.push(callback);\n    if (root._bokeh_is_loading > 0) {\n      console.debug(\"Bokeh: BokehJS is being loaded, scheduling callback at\", now());\n      return null;\n    }\n    if (js_urls == null || js_urls.length === 0) {\n      run_callbacks();\n      return null;\n    }\n    console.debug(\"Bokeh: BokehJS not loaded, scheduling load and callback at\", now());\n    root._bokeh_is_loading = css_urls.length + js_urls.length;\n\n    function on_load() {\n      root._bokeh_is_loading--;\n      if (root._bokeh_is_loading === 0) {\n        console.debug(\"Bokeh: all BokehJS libraries/stylesheets loaded\");\n        run_callbacks()\n      }\n    }\n\n    function on_error(url) {\n      console.error(\"failed to load \" + url);\n    }\n\n    for (let i = 0; i < css_urls.length; i++) {\n      const url = css_urls[i];\n      const element = document.createElement(\"link\");\n      element.onload = on_load;\n      element.onerror = on_error.bind(null, url);\n      element.rel = \"stylesheet\";\n      element.type = \"text/css\";\n      element.href = url;\n      console.debug(\"Bokeh: injecting link tag for BokehJS stylesheet: \", url);\n      document.body.appendChild(element);\n    }\n\n    for (let i = 0; i < js_urls.length; i++) {\n      const url = js_urls[i];\n      const element = document.createElement('script');\n      element.onload = on_load;\n      element.onerror = on_error.bind(null, url);\n      element.async = false;\n      element.src = url;\n      console.debug(\"Bokeh: injecting script tag for BokehJS library: \", url);\n      document.head.appendChild(element);\n    }\n  };\n\n  function inject_raw_css(css) {\n    const element = document.createElement(\"style\");\n    element.appendChild(document.createTextNode(css));\n    document.body.appendChild(element);\n  }\n\n  const js_urls = [\"https://cdn.bokeh.org/bokeh/release/bokeh-2.4.3.min.js\", \"https://cdn.bokeh.org/bokeh/release/bokeh-gl-2.4.3.min.js\", \"https://cdn.bokeh.org/bokeh/release/bokeh-widgets-2.4.3.min.js\", \"https://cdn.bokeh.org/bokeh/release/bokeh-tables-2.4.3.min.js\", \"https://cdn.bokeh.org/bokeh/release/bokeh-mathjax-2.4.3.min.js\"];\n  const css_urls = [];\n\n  const inline_js = [    function(Bokeh) {\n      Bokeh.set_log_level(\"info\");\n    },\nfunction(Bokeh) {\n    }\n  ];\n\n  function run_inline_js() {\n    if (root.Bokeh !== undefined || force === true) {\n          for (let i = 0; i < inline_js.length; i++) {\n      inline_js[i].call(root, root.Bokeh);\n    }\nif (force === true) {\n        display_loaded();\n      }} else if (Date.now() < root._bokeh_timeout) {\n      setTimeout(run_inline_js, 100);\n    } else if (!root._bokeh_failed_load) {\n      console.log(\"Bokeh: BokehJS failed to load within specified timeout.\");\n      root._bokeh_failed_load = true;\n    } else if (force !== true) {\n      const cell = $(document.getElementById(\"1002\")).parents('.cell').data().cell;\n      cell.output_area.append_execute_result(NB_LOAD_WARNING)\n    }\n  }\n\n  if (root._bokeh_is_loading === 0) {\n    console.debug(\"Bokeh: BokehJS loaded, going straight to plotting\");\n    run_inline_js();\n  } else {\n    load_libs(css_urls, js_urls, function() {\n      console.debug(\"Bokeh: BokehJS plotting callback run at\", now());\n      run_inline_js();\n    });\n  }\n}(window));"
     },
     "metadata": {},
     "output_type": "display_data"
    }
   ],
   "source": [
    "import pandas_bokeh\n",
    "pandas_bokeh.output_notebook('jupyter')"
   ],
   "metadata": {
    "collapsed": false,
    "pycharm": {
     "name": "#%%\n"
    }
   }
  },
  {
   "cell_type": "code",
   "execution_count": 49,
   "outputs": [
    {
     "data": {
      "text/html": "\n  <div class=\"bk-root\" id=\"756f3b7d-81a1-49a7-b111-7e474e5c23ce\" data-root-id=\"1039\"></div>\n"
     },
     "metadata": {},
     "output_type": "display_data"
    },
    {
     "data": {
      "application/javascript": "(function(root) {\n  function embed_document(root) {\n  const docs_json = {\"f0b3ef86-c804-4289-9930-3a7eb399e788\":{\"defs\":[],\"roots\":{\"references\":[{\"attributes\":{\"below\":[{\"id\":\"1050\"}],\"center\":[{\"id\":\"1053\"},{\"id\":\"1057\"},{\"id\":\"1090\"}],\"height\":400,\"left\":[{\"id\":\"1054\"}],\"output_backend\":\"webgl\",\"renderers\":[{\"id\":\"1079\"},{\"id\":\"1099\"},{\"id\":\"1118\"}],\"sizing_mode\":\"fixed\",\"title\":{\"id\":\"1040\"},\"toolbar\":{\"id\":\"1065\"},\"x_range\":{\"id\":\"1042\"},\"x_scale\":{\"id\":\"1046\"},\"y_range\":{\"id\":\"1044\"},\"y_scale\":{\"id\":\"1048\"}},\"id\":\"1039\",\"subtype\":\"Figure\",\"type\":\"Plot\"},{\"attributes\":{},\"id\":\"1048\",\"type\":\"LinearScale\"},{\"attributes\":{\"callback\":null,\"mode\":\"vline\",\"renderers\":[{\"id\":\"1079\"}],\"tooltips\":[[\"Company\",\"@__x__values_original\"],[\"Average\",\"@{Average}\"]]},\"id\":\"1092\",\"type\":\"HoverTool\"},{\"attributes\":{},\"id\":\"1063\",\"type\":\"HelpTool\"},{\"attributes\":{\"range\":{\"id\":\"1042\"},\"value\":0.25},\"id\":\"1113\",\"type\":\"Dodge\"},{\"attributes\":{\"fill_color\":{\"value\":\"#1f77b4\"},\"hatch_color\":{\"value\":\"#1f77b4\"},\"line_color\":{\"value\":\"#1f77b4\"},\"line_width\":{\"value\":2},\"top\":{\"field\":\"Average\"},\"width\":{\"value\":0.2},\"x\":{\"field\":\"__x__values\",\"transform\":{\"id\":\"1074\"}}},\"id\":\"1076\",\"type\":\"VBar\"},{\"attributes\":{\"callback\":null,\"mode\":\"vline\",\"renderers\":[{\"id\":\"1099\"}],\"tooltips\":[[\"Company\",\"@__x__values_original\"],[\"Long\",\"@{Long}\"]]},\"id\":\"1111\",\"type\":\"HoverTool\"},{\"attributes\":{\"fill_alpha\":{\"value\":0.1},\"fill_color\":{\"value\":\"#1f77b4\"},\"hatch_alpha\":{\"value\":0.1},\"hatch_color\":{\"value\":\"#1f77b4\"},\"line_alpha\":{\"value\":0.1},\"line_color\":{\"value\":\"#1f77b4\"},\"line_width\":{\"value\":2},\"top\":{\"field\":\"Average\"},\"width\":{\"value\":0.2},\"x\":{\"field\":\"__x__values\",\"transform\":{\"id\":\"1074\"}}},\"id\":\"1077\",\"type\":\"VBar\"},{\"attributes\":{\"fill_alpha\":{\"value\":0.2},\"fill_color\":{\"value\":\"#2ca02c\"},\"hatch_alpha\":{\"value\":0.2},\"hatch_color\":{\"value\":\"#2ca02c\"},\"line_alpha\":{\"value\":0.2},\"line_color\":{\"value\":\"#2ca02c\"},\"line_width\":{\"value\":2},\"top\":{\"field\":\"Short\"},\"width\":{\"value\":0.2},\"x\":{\"field\":\"__x__values\",\"transform\":{\"id\":\"1113\"}}},\"id\":\"1117\",\"type\":\"VBar\"},{\"attributes\":{\"coordinates\":null,\"data_source\":{\"id\":\"1038\"},\"glyph\":{\"id\":\"1076\"},\"group\":null,\"hover_glyph\":null,\"muted_glyph\":{\"id\":\"1078\"},\"nonselection_glyph\":{\"id\":\"1077\"},\"view\":{\"id\":\"1080\"}},\"id\":\"1079\",\"type\":\"GlyphRenderer\"},{\"attributes\":{\"active_scroll\":{\"id\":\"1059\"},\"tools\":[{\"id\":\"1058\"},{\"id\":\"1059\"},{\"id\":\"1060\"},{\"id\":\"1061\"},{\"id\":\"1062\"},{\"id\":\"1063\"},{\"id\":\"1092\"},{\"id\":\"1111\"},{\"id\":\"1130\"}]},\"id\":\"1065\",\"type\":\"Toolbar\"},{\"attributes\":{\"coordinates\":null,\"data_source\":{\"id\":\"1038\"},\"glyph\":{\"id\":\"1115\"},\"group\":null,\"hover_glyph\":null,\"muted_glyph\":{\"id\":\"1117\"},\"nonselection_glyph\":{\"id\":\"1116\"},\"view\":{\"id\":\"1119\"}},\"id\":\"1118\",\"type\":\"GlyphRenderer\"},{\"attributes\":{\"fill_alpha\":{\"value\":0.2},\"fill_color\":{\"value\":\"#1f77b4\"},\"hatch_alpha\":{\"value\":0.2},\"hatch_color\":{\"value\":\"#1f77b4\"},\"line_alpha\":{\"value\":0.2},\"line_color\":{\"value\":\"#1f77b4\"},\"line_width\":{\"value\":2},\"top\":{\"field\":\"Average\"},\"width\":{\"value\":0.2},\"x\":{\"field\":\"__x__values\",\"transform\":{\"id\":\"1074\"}}},\"id\":\"1078\",\"type\":\"VBar\"},{\"attributes\":{},\"id\":\"1055\",\"type\":\"BasicTicker\"},{\"attributes\":{\"coordinates\":null,\"formatter\":{\"id\":\"1083\"},\"group\":null,\"major_label_policy\":{\"id\":\"1084\"},\"ticker\":{\"id\":\"1055\"}},\"id\":\"1054\",\"type\":\"LinearAxis\"},{\"attributes\":{\"range\":{\"id\":\"1042\"}},\"id\":\"1094\",\"type\":\"Dodge\"},{\"attributes\":{\"bottom_units\":\"screen\",\"coordinates\":null,\"fill_alpha\":0.5,\"fill_color\":\"lightgrey\",\"group\":null,\"left_units\":\"screen\",\"level\":\"overlay\",\"line_alpha\":1.0,\"line_color\":\"black\",\"line_dash\":[4,4],\"line_width\":2,\"right_units\":\"screen\",\"syncable\":false,\"top_units\":\"screen\"},\"id\":\"1064\",\"type\":\"BoxAnnotation\"},{\"attributes\":{\"fill_alpha\":{\"value\":0.2},\"fill_color\":{\"value\":\"#ff7f0e\"},\"hatch_alpha\":{\"value\":0.2},\"hatch_color\":{\"value\":\"#ff7f0e\"},\"line_alpha\":{\"value\":0.2},\"line_color\":{\"value\":\"#ff7f0e\"},\"line_width\":{\"value\":2},\"top\":{\"field\":\"Long\"},\"width\":{\"value\":0.2},\"x\":{\"field\":\"__x__values\",\"transform\":{\"id\":\"1094\"}}},\"id\":\"1098\",\"type\":\"VBar\"},{\"attributes\":{\"fill_color\":{\"value\":\"#2ca02c\"},\"hatch_color\":{\"value\":\"#2ca02c\"},\"line_color\":{\"value\":\"#2ca02c\"},\"line_width\":{\"value\":2},\"top\":{\"field\":\"Short\"},\"width\":{\"value\":0.2},\"x\":{\"field\":\"__x__values\",\"transform\":{\"id\":\"1113\"}}},\"id\":\"1115\",\"type\":\"VBar\"},{\"attributes\":{},\"id\":\"1084\",\"type\":\"AllLabels\"},{\"attributes\":{\"coordinates\":null,\"data_source\":{\"id\":\"1038\"},\"glyph\":{\"id\":\"1096\"},\"group\":null,\"hover_glyph\":null,\"muted_glyph\":{\"id\":\"1098\"},\"nonselection_glyph\":{\"id\":\"1097\"},\"view\":{\"id\":\"1100\"}},\"id\":\"1099\",\"type\":\"GlyphRenderer\"},{\"attributes\":{},\"id\":\"1087\",\"type\":\"UnionRenderers\"},{\"attributes\":{\"axis\":{\"id\":\"1054\"},\"coordinates\":null,\"dimension\":1,\"group\":null,\"ticker\":null},\"id\":\"1057\",\"type\":\"Grid\"},{\"attributes\":{\"fill_color\":{\"value\":\"#ff7f0e\"},\"hatch_color\":{\"value\":\"#ff7f0e\"},\"line_color\":{\"value\":\"#ff7f0e\"},\"line_width\":{\"value\":2},\"top\":{\"field\":\"Long\"},\"width\":{\"value\":0.2},\"x\":{\"field\":\"__x__values\",\"transform\":{\"id\":\"1094\"}}},\"id\":\"1096\",\"type\":\"VBar\"},{\"attributes\":{\"source\":{\"id\":\"1038\"}},\"id\":\"1119\",\"type\":\"CDSView\"},{\"attributes\":{\"range\":{\"id\":\"1042\"},\"value\":-0.25},\"id\":\"1074\",\"type\":\"Dodge\"},{\"attributes\":{\"fill_alpha\":{\"value\":0.1},\"fill_color\":{\"value\":\"#2ca02c\"},\"hatch_alpha\":{\"value\":0.1},\"hatch_color\":{\"value\":\"#2ca02c\"},\"line_alpha\":{\"value\":0.1},\"line_color\":{\"value\":\"#2ca02c\"},\"line_width\":{\"value\":2},\"top\":{\"field\":\"Short\"},\"width\":{\"value\":0.2},\"x\":{\"field\":\"__x__values\",\"transform\":{\"id\":\"1113\"}}},\"id\":\"1116\",\"type\":\"VBar\"},{\"attributes\":{},\"id\":\"1042\",\"type\":\"DataRange1d\"},{\"attributes\":{\"source\":{\"id\":\"1038\"}},\"id\":\"1100\",\"type\":\"CDSView\"},{\"attributes\":{\"code\":\"\\n                                    var labels = {0: 'Adobe', 1: 'Airbnb', 2: 'Amazon', 3: 'Cisco', 4: 'Dell', 5: 'Facebook', 6: 'Google', 7: 'IBM', 8: 'Intel', 9: 'Intuit', 10: 'Microsoft', 11: 'NVIDIA', 12: 'Netflix', 13: 'Oracle', 14: 'Orange', 15: 'PayPal', 16: 'SAP', 17: 'Salesforce', 18: 'Samsung', 19: 'Siemens', 20: 'Snap', 21: 'Square', 22: 'Symantec', 23: 'Tencent', 24: 'Twitter', 25: 'Uber', 26: 'Yelp', 27: 'eBay'};\\n                                    return labels[tick];\\n                                    \"},\"id\":\"1072\",\"type\":\"FuncTickFormatter\"},{\"attributes\":{},\"id\":\"1044\",\"type\":\"DataRange1d\"},{\"attributes\":{\"fill_alpha\":{\"value\":0.1},\"fill_color\":{\"value\":\"#ff7f0e\"},\"hatch_alpha\":{\"value\":0.1},\"hatch_color\":{\"value\":\"#ff7f0e\"},\"line_alpha\":{\"value\":0.1},\"line_color\":{\"value\":\"#ff7f0e\"},\"line_width\":{\"value\":2},\"top\":{\"field\":\"Long\"},\"width\":{\"value\":0.2},\"x\":{\"field\":\"__x__values\",\"transform\":{\"id\":\"1094\"}}},\"id\":\"1097\",\"type\":\"VBar\"},{\"attributes\":{},\"id\":\"1086\",\"type\":\"AllLabels\"},{\"attributes\":{\"coordinates\":null,\"group\":null},\"id\":\"1040\",\"type\":\"Title\"},{\"attributes\":{},\"id\":\"1058\",\"type\":\"PanTool\"},{\"attributes\":{\"label\":{\"value\":\" Short\"},\"renderers\":[{\"id\":\"1118\"}]},\"id\":\"1129\",\"type\":\"LegendItem\"},{\"attributes\":{},\"id\":\"1062\",\"type\":\"ResetTool\"},{\"attributes\":{},\"id\":\"1088\",\"type\":\"Selection\"},{\"attributes\":{},\"id\":\"1059\",\"type\":\"WheelZoomTool\"},{\"attributes\":{\"callback\":null,\"mode\":\"vline\",\"renderers\":[{\"id\":\"1118\"}],\"tooltips\":[[\"Company\",\"@__x__values_original\"],[\"Short\",\"@{Short}\"]]},\"id\":\"1130\",\"type\":\"HoverTool\"},{\"attributes\":{\"axis\":{\"id\":\"1050\"},\"coordinates\":null,\"group\":null,\"ticker\":null},\"id\":\"1053\",\"type\":\"Grid\"},{\"attributes\":{\"overlay\":{\"id\":\"1064\"}},\"id\":\"1060\",\"type\":\"BoxZoomTool\"},{\"attributes\":{\"data\":{\"Average\":[57,107,1143,235,79,720,1066,248,115,73,539,79,58,146,130,67,76,131,38,55,46,82,55,5,108,203,167,53],\"Long\":[39,51,969,118,41,488,1371,208,77,38,498,55,14,151,92,27,45,106,29,17,18,40,28,1,63,93,87,32],\"Short\":[37,13,265,112,40,95,158,112,30,24,142,16,14,109,36,25,47,20,22,38,9,12,15,1,19,39,23,11],\"__x__values\":[0,1,2,3,4,5,6,7,8,9,10,11,12,13,14,15,16,17,18,19,20,21,22,23,24,25,26,27],\"__x__values_original\":[\"Adobe\",\"Airbnb\",\"Amazon\",\"Cisco\",\"Dell\",\"Facebook\",\"Google\",\"IBM\",\"Intel\",\"Intuit\",\"Microsoft\",\"NVIDIA\",\"Netflix\",\"Oracle\",\"Orange\",\"PayPal\",\"SAP\",\"Salesforce\",\"Samsung\",\"Siemens\",\"Snap\",\"Square\",\"Symantec\",\"Tencent\",\"Twitter\",\"Uber\",\"Yelp\",\"eBay\"]},\"selected\":{\"id\":\"1088\"},\"selection_policy\":{\"id\":\"1087\"}},\"id\":\"1038\",\"type\":\"ColumnDataSource\"},{\"attributes\":{\"click_policy\":\"hide\",\"coordinates\":null,\"group\":null,\"items\":[{\"id\":\"1091\"},{\"id\":\"1110\"},{\"id\":\"1129\"}]},\"id\":\"1090\",\"type\":\"Legend\"},{\"attributes\":{},\"id\":\"1061\",\"type\":\"SaveTool\"},{\"attributes\":{\"label\":{\"value\":\" Long\"},\"renderers\":[{\"id\":\"1099\"}]},\"id\":\"1110\",\"type\":\"LegendItem\"},{\"attributes\":{\"source\":{\"id\":\"1038\"}},\"id\":\"1080\",\"type\":\"CDSView\"},{\"attributes\":{\"axis_label\":\"Company\",\"coordinates\":null,\"formatter\":{\"id\":\"1072\"},\"group\":null,\"major_label_orientation\":1.5707963267948966,\"major_label_policy\":{\"id\":\"1086\"},\"ticker\":{\"id\":\"1132\"}},\"id\":\"1050\",\"type\":\"LinearAxis\"},{\"attributes\":{\"ticks\":[0,1,2,3,4,5,6,7,8,9,10,11,12,13,14,15,16,17,18,19,20,21,22,23,24,25,26,27]},\"id\":\"1132\",\"type\":\"FixedTicker\"},{\"attributes\":{\"label\":{\"value\":\" Average\"},\"renderers\":[{\"id\":\"1079\"}]},\"id\":\"1091\",\"type\":\"LegendItem\"},{\"attributes\":{},\"id\":\"1046\",\"type\":\"LinearScale\"},{\"attributes\":{},\"id\":\"1083\",\"type\":\"BasicTickFormatter\"}],\"root_ids\":[\"1039\"]},\"title\":\"Bokeh Application\",\"version\":\"2.4.3\"}};\n  const render_items = [{\"docid\":\"f0b3ef86-c804-4289-9930-3a7eb399e788\",\"root_ids\":[\"1039\"],\"roots\":{\"1039\":\"756f3b7d-81a1-49a7-b111-7e474e5c23ce\"}}];\n  root.Bokeh.embed.embed_items_notebook(docs_json, render_items);\n  }\n  if (root.Bokeh !== undefined) {\n    embed_document(root);\n  } else {\n    let attempts = 0;\n    const timer = setInterval(function(root) {\n      if (root.Bokeh !== undefined) {\n        clearInterval(timer);\n        embed_document(root);\n      } else {\n        attempts++;\n        if (attempts > 100) {\n          clearInterval(timer);\n          console.log(\"Bokeh: ERROR: Unable to run BokehJS code because BokehJS library is missing\");\n        }\n      }\n    }, 10, root)\n  }\n})(window);",
      "application/vnd.bokehjs_exec.v0+json": ""
     },
     "metadata": {
      "application/vnd.bokehjs_exec.v0+json": {
       "id": "1039"
      }
     },
     "output_type": "display_data"
    },
    {
     "data": {
      "text/plain": "Figure(id='1039', ...)",
      "text/html": "<div style=\"display: table;\"><div style=\"display: table-row;\"><div style=\"display: table-cell;\"><b title=\"bokeh.plotting.figure.Figure\">Figure</b>(</div><div style=\"display: table-cell;\">id&nbsp;=&nbsp;'1039', <span id=\"1183\" style=\"cursor: pointer;\">&hellip;)</span></div></div><div class=\"1182\" style=\"display: none;\"><div style=\"display: table-cell;\"></div><div style=\"display: table-cell;\">above&nbsp;=&nbsp;[],</div></div><div class=\"1182\" style=\"display: none;\"><div style=\"display: table-cell;\"></div><div style=\"display: table-cell;\">align&nbsp;=&nbsp;'start',</div></div><div class=\"1182\" style=\"display: none;\"><div style=\"display: table-cell;\"></div><div style=\"display: table-cell;\">aspect_ratio&nbsp;=&nbsp;None,</div></div><div class=\"1182\" style=\"display: none;\"><div style=\"display: table-cell;\"></div><div style=\"display: table-cell;\">aspect_scale&nbsp;=&nbsp;1,</div></div><div class=\"1182\" style=\"display: none;\"><div style=\"display: table-cell;\"></div><div style=\"display: table-cell;\">background&nbsp;=&nbsp;None,</div></div><div class=\"1182\" style=\"display: none;\"><div style=\"display: table-cell;\"></div><div style=\"display: table-cell;\">background_fill_alpha&nbsp;=&nbsp;1.0,</div></div><div class=\"1182\" style=\"display: none;\"><div style=\"display: table-cell;\"></div><div style=\"display: table-cell;\">background_fill_color&nbsp;=&nbsp;'#ffffff',</div></div><div class=\"1182\" style=\"display: none;\"><div style=\"display: table-cell;\"></div><div style=\"display: table-cell;\">below&nbsp;=&nbsp;[LinearAxis(id='1050', ...)],</div></div><div class=\"1182\" style=\"display: none;\"><div style=\"display: table-cell;\"></div><div style=\"display: table-cell;\">border_fill_alpha&nbsp;=&nbsp;1.0,</div></div><div class=\"1182\" style=\"display: none;\"><div style=\"display: table-cell;\"></div><div style=\"display: table-cell;\">border_fill_color&nbsp;=&nbsp;'#ffffff',</div></div><div class=\"1182\" style=\"display: none;\"><div style=\"display: table-cell;\"></div><div style=\"display: table-cell;\">center&nbsp;=&nbsp;[Grid(id='1053', ...), Grid(id='1057', ...), Legend(id='1090', ...)],</div></div><div class=\"1182\" style=\"display: none;\"><div style=\"display: table-cell;\"></div><div style=\"display: table-cell;\">css_classes&nbsp;=&nbsp;[],</div></div><div class=\"1182\" style=\"display: none;\"><div style=\"display: table-cell;\"></div><div style=\"display: table-cell;\">disabled&nbsp;=&nbsp;False,</div></div><div class=\"1182\" style=\"display: none;\"><div style=\"display: table-cell;\"></div><div style=\"display: table-cell;\">extra_x_ranges&nbsp;=&nbsp;{},</div></div><div class=\"1182\" style=\"display: none;\"><div style=\"display: table-cell;\"></div><div style=\"display: table-cell;\">extra_x_scales&nbsp;=&nbsp;{},</div></div><div class=\"1182\" style=\"display: none;\"><div style=\"display: table-cell;\"></div><div style=\"display: table-cell;\">extra_y_ranges&nbsp;=&nbsp;{},</div></div><div class=\"1182\" style=\"display: none;\"><div style=\"display: table-cell;\"></div><div style=\"display: table-cell;\">extra_y_scales&nbsp;=&nbsp;{},</div></div><div class=\"1182\" style=\"display: none;\"><div style=\"display: table-cell;\"></div><div style=\"display: table-cell;\">frame_height&nbsp;=&nbsp;None,</div></div><div class=\"1182\" style=\"display: none;\"><div style=\"display: table-cell;\"></div><div style=\"display: table-cell;\">frame_width&nbsp;=&nbsp;None,</div></div><div class=\"1182\" style=\"display: none;\"><div style=\"display: table-cell;\"></div><div style=\"display: table-cell;\">height&nbsp;=&nbsp;400,</div></div><div class=\"1182\" style=\"display: none;\"><div style=\"display: table-cell;\"></div><div style=\"display: table-cell;\">height_policy&nbsp;=&nbsp;'auto',</div></div><div class=\"1182\" style=\"display: none;\"><div style=\"display: table-cell;\"></div><div style=\"display: table-cell;\">hidpi&nbsp;=&nbsp;True,</div></div><div class=\"1182\" style=\"display: none;\"><div style=\"display: table-cell;\"></div><div style=\"display: table-cell;\">inner_height&nbsp;=&nbsp;0,</div></div><div class=\"1182\" style=\"display: none;\"><div style=\"display: table-cell;\"></div><div style=\"display: table-cell;\">inner_width&nbsp;=&nbsp;0,</div></div><div class=\"1182\" style=\"display: none;\"><div style=\"display: table-cell;\"></div><div style=\"display: table-cell;\">js_event_callbacks&nbsp;=&nbsp;{},</div></div><div class=\"1182\" style=\"display: none;\"><div style=\"display: table-cell;\"></div><div style=\"display: table-cell;\">js_property_callbacks&nbsp;=&nbsp;{},</div></div><div class=\"1182\" style=\"display: none;\"><div style=\"display: table-cell;\"></div><div style=\"display: table-cell;\">left&nbsp;=&nbsp;[LinearAxis(id='1054', ...)],</div></div><div class=\"1182\" style=\"display: none;\"><div style=\"display: table-cell;\"></div><div style=\"display: table-cell;\">lod_factor&nbsp;=&nbsp;10,</div></div><div class=\"1182\" style=\"display: none;\"><div style=\"display: table-cell;\"></div><div style=\"display: table-cell;\">lod_interval&nbsp;=&nbsp;300,</div></div><div class=\"1182\" style=\"display: none;\"><div style=\"display: table-cell;\"></div><div style=\"display: table-cell;\">lod_threshold&nbsp;=&nbsp;2000,</div></div><div class=\"1182\" style=\"display: none;\"><div style=\"display: table-cell;\"></div><div style=\"display: table-cell;\">lod_timeout&nbsp;=&nbsp;500,</div></div><div class=\"1182\" style=\"display: none;\"><div style=\"display: table-cell;\"></div><div style=\"display: table-cell;\">margin&nbsp;=&nbsp;(0, 0, 0, 0),</div></div><div class=\"1182\" style=\"display: none;\"><div style=\"display: table-cell;\"></div><div style=\"display: table-cell;\">match_aspect&nbsp;=&nbsp;False,</div></div><div class=\"1182\" style=\"display: none;\"><div style=\"display: table-cell;\"></div><div style=\"display: table-cell;\">max_height&nbsp;=&nbsp;None,</div></div><div class=\"1182\" style=\"display: none;\"><div style=\"display: table-cell;\"></div><div style=\"display: table-cell;\">max_width&nbsp;=&nbsp;None,</div></div><div class=\"1182\" style=\"display: none;\"><div style=\"display: table-cell;\"></div><div style=\"display: table-cell;\">min_border&nbsp;=&nbsp;5,</div></div><div class=\"1182\" style=\"display: none;\"><div style=\"display: table-cell;\"></div><div style=\"display: table-cell;\">min_border_bottom&nbsp;=&nbsp;None,</div></div><div class=\"1182\" style=\"display: none;\"><div style=\"display: table-cell;\"></div><div style=\"display: table-cell;\">min_border_left&nbsp;=&nbsp;None,</div></div><div class=\"1182\" style=\"display: none;\"><div style=\"display: table-cell;\"></div><div style=\"display: table-cell;\">min_border_right&nbsp;=&nbsp;None,</div></div><div class=\"1182\" style=\"display: none;\"><div style=\"display: table-cell;\"></div><div style=\"display: table-cell;\">min_border_top&nbsp;=&nbsp;None,</div></div><div class=\"1182\" style=\"display: none;\"><div style=\"display: table-cell;\"></div><div style=\"display: table-cell;\">min_height&nbsp;=&nbsp;None,</div></div><div class=\"1182\" style=\"display: none;\"><div style=\"display: table-cell;\"></div><div style=\"display: table-cell;\">min_width&nbsp;=&nbsp;None,</div></div><div class=\"1182\" style=\"display: none;\"><div style=\"display: table-cell;\"></div><div style=\"display: table-cell;\">name&nbsp;=&nbsp;None,</div></div><div class=\"1182\" style=\"display: none;\"><div style=\"display: table-cell;\"></div><div style=\"display: table-cell;\">outer_height&nbsp;=&nbsp;0,</div></div><div class=\"1182\" style=\"display: none;\"><div style=\"display: table-cell;\"></div><div style=\"display: table-cell;\">outer_width&nbsp;=&nbsp;0,</div></div><div class=\"1182\" style=\"display: none;\"><div style=\"display: table-cell;\"></div><div style=\"display: table-cell;\">outline_line_alpha&nbsp;=&nbsp;1.0,</div></div><div class=\"1182\" style=\"display: none;\"><div style=\"display: table-cell;\"></div><div style=\"display: table-cell;\">outline_line_cap&nbsp;=&nbsp;'butt',</div></div><div class=\"1182\" style=\"display: none;\"><div style=\"display: table-cell;\"></div><div style=\"display: table-cell;\">outline_line_color&nbsp;=&nbsp;'#e5e5e5',</div></div><div class=\"1182\" style=\"display: none;\"><div style=\"display: table-cell;\"></div><div style=\"display: table-cell;\">outline_line_dash&nbsp;=&nbsp;[],</div></div><div class=\"1182\" style=\"display: none;\"><div style=\"display: table-cell;\"></div><div style=\"display: table-cell;\">outline_line_dash_offset&nbsp;=&nbsp;0,</div></div><div class=\"1182\" style=\"display: none;\"><div style=\"display: table-cell;\"></div><div style=\"display: table-cell;\">outline_line_join&nbsp;=&nbsp;'bevel',</div></div><div class=\"1182\" style=\"display: none;\"><div style=\"display: table-cell;\"></div><div style=\"display: table-cell;\">outline_line_width&nbsp;=&nbsp;1,</div></div><div class=\"1182\" style=\"display: none;\"><div style=\"display: table-cell;\"></div><div style=\"display: table-cell;\">output_backend&nbsp;=&nbsp;'webgl',</div></div><div class=\"1182\" style=\"display: none;\"><div style=\"display: table-cell;\"></div><div style=\"display: table-cell;\">renderers&nbsp;=&nbsp;[GlyphRenderer(id='1079', ...), GlyphRenderer(id='1099', ...), GlyphRenderer(id='1118', ...)],</div></div><div class=\"1182\" style=\"display: none;\"><div style=\"display: table-cell;\"></div><div style=\"display: table-cell;\">reset_policy&nbsp;=&nbsp;'standard',</div></div><div class=\"1182\" style=\"display: none;\"><div style=\"display: table-cell;\"></div><div style=\"display: table-cell;\">right&nbsp;=&nbsp;[],</div></div><div class=\"1182\" style=\"display: none;\"><div style=\"display: table-cell;\"></div><div style=\"display: table-cell;\">sizing_mode&nbsp;=&nbsp;'fixed',</div></div><div class=\"1182\" style=\"display: none;\"><div style=\"display: table-cell;\"></div><div style=\"display: table-cell;\">subscribed_events&nbsp;=&nbsp;[],</div></div><div class=\"1182\" style=\"display: none;\"><div style=\"display: table-cell;\"></div><div style=\"display: table-cell;\">syncable&nbsp;=&nbsp;True,</div></div><div class=\"1182\" style=\"display: none;\"><div style=\"display: table-cell;\"></div><div style=\"display: table-cell;\">tags&nbsp;=&nbsp;[],</div></div><div class=\"1182\" style=\"display: none;\"><div style=\"display: table-cell;\"></div><div style=\"display: table-cell;\">title&nbsp;=&nbsp;Title(id='1040', ...),</div></div><div class=\"1182\" style=\"display: none;\"><div style=\"display: table-cell;\"></div><div style=\"display: table-cell;\">title_location&nbsp;=&nbsp;'above',</div></div><div class=\"1182\" style=\"display: none;\"><div style=\"display: table-cell;\"></div><div style=\"display: table-cell;\">toolbar&nbsp;=&nbsp;Toolbar(id='1065', ...),</div></div><div class=\"1182\" style=\"display: none;\"><div style=\"display: table-cell;\"></div><div style=\"display: table-cell;\">toolbar_location&nbsp;=&nbsp;'right',</div></div><div class=\"1182\" style=\"display: none;\"><div style=\"display: table-cell;\"></div><div style=\"display: table-cell;\">toolbar_sticky&nbsp;=&nbsp;True,</div></div><div class=\"1182\" style=\"display: none;\"><div style=\"display: table-cell;\"></div><div style=\"display: table-cell;\">visible&nbsp;=&nbsp;True,</div></div><div class=\"1182\" style=\"display: none;\"><div style=\"display: table-cell;\"></div><div style=\"display: table-cell;\">width&nbsp;=&nbsp;600,</div></div><div class=\"1182\" style=\"display: none;\"><div style=\"display: table-cell;\"></div><div style=\"display: table-cell;\">width_policy&nbsp;=&nbsp;'auto',</div></div><div class=\"1182\" style=\"display: none;\"><div style=\"display: table-cell;\"></div><div style=\"display: table-cell;\">x_range&nbsp;=&nbsp;DataRange1d(id='1042', ...),</div></div><div class=\"1182\" style=\"display: none;\"><div style=\"display: table-cell;\"></div><div style=\"display: table-cell;\">x_scale&nbsp;=&nbsp;LinearScale(id='1046', ...),</div></div><div class=\"1182\" style=\"display: none;\"><div style=\"display: table-cell;\"></div><div style=\"display: table-cell;\">y_range&nbsp;=&nbsp;DataRange1d(id='1044', ...),</div></div><div class=\"1182\" style=\"display: none;\"><div style=\"display: table-cell;\"></div><div style=\"display: table-cell;\">y_scale&nbsp;=&nbsp;LinearScale(id='1048', ...))</div></div></div>\n<script>\n(function() {\n  let expanded = false;\n  const ellipsis = document.getElementById(\"1183\");\n  ellipsis.addEventListener(\"click\", function() {\n    const rows = document.getElementsByClassName(\"1182\");\n    for (let i = 0; i < rows.length; i++) {\n      const el = rows[i];\n      el.style.display = expanded ? \"none\" : \"table-row\";\n    }\n    ellipsis.innerHTML = expanded ? \"&hellip;)\" : \"&lsaquo;&lsaquo;&lsaquo;\";\n    expanded = !expanded;\n  });\n})();\n</script>\n"
     },
     "execution_count": 49,
     "metadata": {},
     "output_type": "execute_result"
    }
   ],
   "source": [
    "df.groupby([\"Company\", \"Process\"]).size().unstack(level=1).plot_bokeh(kind=\"bar\", vertical_xlabel=True)"
   ],
   "metadata": {
    "collapsed": false,
    "pycharm": {
     "name": "#%%\n"
    }
   }
  },
  {
   "cell_type": "markdown",
   "source": [
    "# Summary\n",
    "\n",
    "We have seen some cool stuff we can easily and effiently do with pandas. But there is so much more to learn - this package is HUGE.\n",
    "\n",
    "My recommendation is that whenever you feel like something can be done in a pandas-y way, google it, and probably someone already did it. Slowly but surely you will be an expert yourself, and you will be able to implement seemingly complex operations quickly and with very few lines of code.\n",
    "\n",
    "Happy coding :)\n"
   ],
   "metadata": {
    "collapsed": false,
    "pycharm": {
     "name": "#%% md\n"
    }
   }
  }
 ],
 "metadata": {
  "kernelspec": {
   "display_name": "Python 3",
   "language": "python",
   "name": "python3"
  },
  "language_info": {
   "codemirror_mode": {
    "name": "ipython",
    "version": 3
   },
   "file_extension": ".py",
   "mimetype": "text/x-python",
   "name": "python",
   "nbconvert_exporter": "python",
   "pygments_lexer": "ipython3",
   "version": "3.7.11"
  }
 },
 "nbformat": 4,
 "nbformat_minor": 1
}